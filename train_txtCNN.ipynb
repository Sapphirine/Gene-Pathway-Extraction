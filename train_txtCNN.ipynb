{
 "cells": [
  {
   "cell_type": "code",
   "execution_count": 65,
   "metadata": {},
   "outputs": [
    {
     "name": "stdout",
     "output_type": "stream",
     "text": [
      "[nltk_data] Downloading package punkt to /home/ll3165/nltk_data...\n",
      "[nltk_data]   Package punkt is already up-to-date!\n"
     ]
    }
   ],
   "source": [
    "import pandas as pd\n",
    "import numpy as np\n",
    "\n",
    "import regex\n",
    "import gensim\n",
    "import collections\n",
    "import multiprocessing\n",
    "import nltk\n",
    "nltk.download('punkt')\n",
    "from nltk.tokenize import word_tokenize\n",
    "from keras.utils import np_utils\n",
    "from sklearn.model_selection import train_test_split\n",
    "from keras.preprocessing.text import Tokenizer\n",
    "from keras.preprocessing.sequence import pad_sequences\n",
    "from keras.models import Sequential, Model\n",
    "from keras.layers import Dense\n",
    "from keras.layers import Embedding\n",
    "from keras.optimizers import Adam\n",
    "from keras.layers import Flatten, Conv1D, MaxPooling1D\n",
    "from keras.layers import Dropout, Input, concatenate\n",
    "from keras.callbacks import EarlyStopping, ModelCheckpoint, ReduceLROnPlateau\n",
    "import matplotlib.pyplot as plt\n",
    "from sklearn.metrics import confusion_matrix\n",
    "from sklearn.metrics import roc_auc_score\n",
    "\n",
    "#Don't Show Warning Messages\n",
    "import warnings\n",
    "warnings.filterwarnings('ignore')"
   ]
  },
  {
   "cell_type": "code",
   "execution_count": null,
   "metadata": {},
   "outputs": [],
   "source": []
  },
  {
   "cell_type": "code",
   "execution_count": 113,
   "metadata": {},
   "outputs": [],
   "source": [
    "# Load and format files\n",
    "\n",
    "document = pd.read_csv('embed_train.csv', index_col=None)\n",
    "#document=document.iloc[:,1:]\n",
    "\n"
   ]
  },
  {
   "cell_type": "code",
   "execution_count": 114,
   "metadata": {},
   "outputs": [
    {
     "name": "stdout",
     "output_type": "stream",
     "text": [
      "Cell processing completed!\n"
     ]
    }
   ],
   "source": [
    "dat = document[['Sentence','label']]\n",
    "#dat['label'] = pd.to_numeric(dat['label'])\n",
    "\n",
    "lines = []\n",
    "#i = 0\n",
    "for x in dat['Sentence']:\n",
    "#    i+=1\n",
    "    lines.append(len(list(filter(str.strip ,x.split('\\n')))))\n",
    "#    print(i)\n",
    "\n",
    "dat = dat.assign(length = lines)\n",
    "\n",
    "articles = []\n",
    "for x in dat['Sentence']:\n",
    "    for i in range(len(list(filter(str.strip ,x.split('\\n'))))):\n",
    "        articles.append(x.split('\\n')[i])\n",
    "\n",
    "tags = []\n",
    "for index, row in dat.iterrows():\n",
    "    for i in range(row['length']):\n",
    "        tags.append(row['label'])\n",
    "\n",
    "data = pd.DataFrame({'lines': articles, 'label':tags})\n",
    "print('Cell processing completed!')"
   ]
  },
  {
   "cell_type": "code",
   "execution_count": 118,
   "metadata": {},
   "outputs": [],
   "source": [
    "pattern = \"[^a-z|A-Z|\\s]|\\\\b\\w{1}\\\\b\"\n",
    "X = data[data.columns[1]]\n",
    "X = pd.Series([regex.sub(pattern,'', x) for x in X])\n",
    "y = data[data.columns[0]]\n",
    "labels = tags"
   ]
  },
  {
   "cell_type": "code",
   "execution_count": 116,
   "metadata": {},
   "outputs": [
    {
     "data": {
      "text/plain": [
       "Index(['label', 'lines'], dtype='object')"
      ]
     },
     "execution_count": 116,
     "metadata": {},
     "output_type": "execute_result"
    }
   ],
   "source": [
    "data.columns"
   ]
  },
  {
   "cell_type": "code",
   "execution_count": 117,
   "metadata": {},
   "outputs": [
    {
     "name": "stdout",
     "output_type": "stream",
     "text": [
      "Cell processing completed!\n"
     ]
    }
   ],
   "source": [
    "y = tags\n",
    "#y = y.values.astype(str)\n",
    "X = data[data.columns[1]]\n",
    "X = pd.Series([regex.sub(pattern,'', x) for x in X])\n",
    "X = X.values.astype(str)\n",
    "# X = np.array([x.split(' ') for x in X])\n",
    "# articles = np.array([' '.join(x) for x in X])\n",
    "# X = np.array([' '.join(x) for x in X])\n",
    "X = [word_tokenize(x) for x in X]\n",
    "strings = [' '.join(x) for x in X]\n",
    "string = ' '.join(strings)\n",
    "n_words = len(set(string.split(' ')))\n",
    "print('Cell processing completed!')\n"
   ]
  },
  {
   "cell_type": "code",
   "execution_count": 82,
   "metadata": {},
   "outputs": [
    {
     "data": {
      "text/plain": [
       "2642"
      ]
     },
     "execution_count": 82,
     "metadata": {},
     "output_type": "execute_result"
    }
   ],
   "source": [
    "n_words"
   ]
  },
  {
   "cell_type": "code",
   "execution_count": 83,
   "metadata": {},
   "outputs": [
    {
     "name": "stdout",
     "output_type": "stream",
     "text": [
      "Found 2499 unique tokens.\n"
     ]
    }
   ],
   "source": [
    "tokenizer = Tokenizer(nb_words = n_words)\n",
    "tokenizer.fit_on_texts(strings)\n",
    "sequences = tokenizer.texts_to_sequences(strings)\n",
    "\n",
    "word_index = tokenizer.word_index\n",
    "print('Found %s unique tokens.' % len(word_index))\n",
    "\n",
    "datas = pad_sequences(sequences, maxlen=100)\n",
    "lab = np_utils.to_categorical(np.asarray(labels))"
   ]
  },
  {
   "cell_type": "code",
   "execution_count": 9,
   "metadata": {},
   "outputs": [
    {
     "name": "stdout",
     "output_type": "stream",
     "text": [
      "Cell processing completed!\n"
     ]
    }
   ],
   "source": [
    "# Import the Word2Vec models\n",
    "wv_model = gensim.models.KeyedVectors.load_word2vec_format('wiki.en.bin', binary = True)\n",
    "vector_sizes1 = 100\n",
    "my_model = gensim.models.KeyedVectors.load_word2vec_format('fil9.bin', binary = True)\n",
    "print('Cell processing completed!')"
   ]
  },
  {
   "cell_type": "code",
   "execution_count": 100,
   "metadata": {},
   "outputs": [
    {
     "data": {
      "text/plain": [
       "100"
      ]
     },
     "execution_count": 100,
     "metadata": {},
     "output_type": "execute_result"
    }
   ],
   "source": [
    "my_model.vector_size"
   ]
  },
  {
   "cell_type": "code",
   "execution_count": 10,
   "metadata": {},
   "outputs": [
    {
     "name": "stdout",
     "output_type": "stream",
     "text": [
      "Cell processing completed!\n"
     ]
    }
   ],
   "source": [
    "# Build embedding index dictionary and embedding matrix\n",
    "vector_sizes2 = wv_model.vector_size\n",
    "vector_size = vector_sizes1 + vector_sizes2\n",
    "\n",
    "embeddings_index = {}\n",
    "for i in range(len(wv_model.index2word)):\n",
    "    word = wv_model.index2word[i]\n",
    "    coefs = np.asarray(wv_model.vectors[i], dtype='float32')\n",
    "    embeddings_index[word] = coefs\n",
    "\n",
    "embedding_matrix = np.zeros((len(word_index) + 1, vector_size))\n",
    "for word, i in word_index.items():\n",
    "    wv_vec = embeddings_index.get(word)\n",
    "\n",
    "    if wv_vec is not None and word in my_model.wv.vocab:\n",
    "        embedding_vector = np.append(wv_vec, my_model[word])\n",
    "    elif wv_vec is not None and word not in my_model.wv.vocab:\n",
    "        embedding_vector = np.append(wv_vec, np.zeros((1, 100)))\n",
    "    elif wv_vec is not None and word in my_model.wv.vocab:\n",
    "        embedding_vector = np.append(np.zeros((1, 300)), my_model[word])\n",
    "\n",
    "    if embedding_vector is not None:\n",
    "        # words not found in embedding index will be all-zeros.\n",
    "        embedding_matrix[i] = embedding_vector\n",
    "\n",
    "print('Cell processing completed!')"
   ]
  },
  {
   "cell_type": "code",
   "execution_count": 84,
   "metadata": {},
   "outputs": [],
   "source": [
    "# Subsetting data\n",
    "X_train, X_eval, y_train, y_eval = train_test_split(datas, lab, test_size=0.3, shuffle=True, random_state=8)\n",
    "X_eval, X_test, y_eval, y_test = train_test_split(X_eval, y_eval, test_size=0.33, shuffle=True, random_state=4)"
   ]
  },
  {
   "cell_type": "code",
   "execution_count": 101,
   "metadata": {},
   "outputs": [
    {
     "name": "stdout",
     "output_type": "stream",
     "text": [
      "Cell processing completed!\n"
     ]
    }
   ],
   "source": [
    "# Build up textCNN model\n",
    "vocab_size = len(embedding_matrix)\n",
    "maxlen = 100\n",
    "seq = Input(shape=[maxlen],name='x_seq')\n",
    "output_len = len(set(y))\n",
    "#Embedding layers\n",
    "emb = Embedding(vocab_size, vector_size, weights=[embedding_matrix], input_length=maxlen, trainable=False)(seq)\n",
    "\n",
    "# conv layers\n",
    "convs = []\n",
    "filter_sizes = [2,3,4,5,6,7,8]\n",
    "for fsz in filter_sizes:\n",
    "    conv1 = Conv1D(128,kernel_size=fsz,activation='tanh')(emb)\n",
    "    pool1 = MaxPooling1D(maxlen-fsz+1)(conv1)\n",
    "    pool1 = Flatten()(pool1)\n",
    "    convs.append(pool1)\n",
    "merge = concatenate(convs,axis=1)\n",
    "out = Dropout(0.5)(merge)\n",
    "#output = Dense(output_len,activation='relu')(out)\n",
    "output = Dense(output_len,activation='sigmoid')(out)\n",
    "model = Model([seq],output)\n",
    "\n",
    "print('Cell processing completed!')"
   ]
  },
  {
   "cell_type": "code",
   "execution_count": 102,
   "metadata": {},
   "outputs": [
    {
     "name": "stdout",
     "output_type": "stream",
     "text": [
      "Training model. Plz be patient......\n",
      "Train on 210 samples, validate on 60 samples\n",
      "Epoch 1/80\n",
      " - 18s - loss: 0.8577 - acc: 0.5738 - val_loss: 0.7861 - val_acc: 0.5167\n",
      "Epoch 2/80\n",
      " - 4s - loss: 0.6927 - acc: 0.6167 - val_loss: 0.6772 - val_acc: 0.5833\n",
      "Epoch 3/80\n",
      " - 4s - loss: 0.6501 - acc: 0.6786 - val_loss: 0.6920 - val_acc: 0.5917\n",
      "Epoch 4/80\n",
      " - 4s - loss: 0.5064 - acc: 0.7500 - val_loss: 0.6941 - val_acc: 0.5750\n",
      "Epoch 5/80\n",
      " - 4s - loss: 0.4651 - acc: 0.7762 - val_loss: 0.6904 - val_acc: 0.6167\n",
      "Epoch 6/80\n",
      " - 4s - loss: 0.4072 - acc: 0.8190 - val_loss: 0.6494 - val_acc: 0.6833\n",
      "Epoch 7/80\n",
      " - 4s - loss: 0.3507 - acc: 0.8286 - val_loss: 0.6668 - val_acc: 0.6833\n",
      "Epoch 8/80\n",
      " - 4s - loss: 0.2860 - acc: 0.8881 - val_loss: 0.6881 - val_acc: 0.6833\n",
      "Epoch 9/80\n",
      " - 4s - loss: 0.2185 - acc: 0.9190 - val_loss: 0.6997 - val_acc: 0.7000\n",
      "Epoch 10/80\n",
      " - 4s - loss: 0.1847 - acc: 0.9476 - val_loss: 0.6468 - val_acc: 0.6583\n",
      "Epoch 11/80\n",
      " - 4s - loss: 0.1638 - acc: 0.9524 - val_loss: 0.6667 - val_acc: 0.6917\n",
      "Epoch 12/80\n",
      " - 4s - loss: 0.1069 - acc: 0.9786 - val_loss: 0.7388 - val_acc: 0.6750\n",
      "Epoch 13/80\n",
      " - 4s - loss: 0.1044 - acc: 0.9786 - val_loss: 0.7189 - val_acc: 0.7000\n",
      "Epoch 14/80\n",
      " - 4s - loss: 0.0778 - acc: 0.9881 - val_loss: 0.6798 - val_acc: 0.6833\n",
      "Epoch 15/80\n",
      " - 4s - loss: 0.0683 - acc: 0.9905 - val_loss: 0.7193 - val_acc: 0.6833\n",
      "Epoch 16/80\n",
      " - 4s - loss: 0.0619 - acc: 0.9905 - val_loss: 0.7418 - val_acc: 0.7000\n",
      "Epoch 17/80\n",
      " - 4s - loss: 0.0513 - acc: 0.9976 - val_loss: 0.7603 - val_acc: 0.6917\n",
      "Epoch 18/80\n",
      " - 4s - loss: 0.0404 - acc: 1.0000 - val_loss: 0.7422 - val_acc: 0.6750\n",
      "Epoch 19/80\n",
      " - 4s - loss: 0.0318 - acc: 0.9976 - val_loss: 0.7480 - val_acc: 0.6750\n",
      "Epoch 20/80\n",
      " - 4s - loss: 0.0273 - acc: 1.0000 - val_loss: 0.7833 - val_acc: 0.6833\n",
      "Epoch 21/80\n",
      " - 4s - loss: 0.0238 - acc: 0.9976 - val_loss: 0.8284 - val_acc: 0.6917\n",
      "Epoch 22/80\n",
      " - 4s - loss: 0.0255 - acc: 1.0000 - val_loss: 0.8536 - val_acc: 0.6917\n",
      "Epoch 23/80\n",
      " - 4s - loss: 0.0169 - acc: 1.0000 - val_loss: 0.8895 - val_acc: 0.7000\n",
      "Epoch 24/80\n",
      " - 4s - loss: 0.0149 - acc: 1.0000 - val_loss: 0.8811 - val_acc: 0.6917\n",
      "Epoch 25/80\n",
      " - 4s - loss: 0.0135 - acc: 1.0000 - val_loss: 0.8547 - val_acc: 0.6917\n",
      "Epoch 26/80\n",
      " - 4s - loss: 0.0157 - acc: 1.0000 - val_loss: 0.8333 - val_acc: 0.6667\n",
      "Epoch 27/80\n",
      " - 4s - loss: 0.0142 - acc: 0.9976 - val_loss: 0.8301 - val_acc: 0.6667\n",
      "Epoch 28/80\n",
      " - 4s - loss: 0.0126 - acc: 1.0000 - val_loss: 0.8369 - val_acc: 0.6667\n",
      "Epoch 29/80\n",
      " - 4s - loss: 0.0112 - acc: 1.0000 - val_loss: 0.8697 - val_acc: 0.6833\n",
      "Epoch 30/80\n",
      " - 4s - loss: 0.0099 - acc: 1.0000 - val_loss: 0.8995 - val_acc: 0.6833\n",
      "Epoch 31/80\n",
      " - 4s - loss: 0.0087 - acc: 1.0000 - val_loss: 0.9277 - val_acc: 0.6833\n",
      "Epoch 32/80\n",
      " - 4s - loss: 0.0095 - acc: 1.0000 - val_loss: 0.9201 - val_acc: 0.6833\n",
      "Epoch 33/80\n",
      " - 4s - loss: 0.0072 - acc: 1.0000 - val_loss: 0.9184 - val_acc: 0.6833\n",
      "Epoch 34/80\n",
      " - 4s - loss: 0.0067 - acc: 1.0000 - val_loss: 0.9226 - val_acc: 0.6833\n",
      "Epoch 35/80\n",
      " - 4s - loss: 0.0055 - acc: 1.0000 - val_loss: 0.9273 - val_acc: 0.6833\n",
      "Epoch 36/80\n",
      " - 4s - loss: 0.0059 - acc: 1.0000 - val_loss: 0.9370 - val_acc: 0.6833\n",
      "Epoch 37/80\n",
      " - 4s - loss: 0.0072 - acc: 0.9976 - val_loss: 0.9269 - val_acc: 0.6833\n",
      "Epoch 38/80\n",
      " - 4s - loss: 0.0048 - acc: 1.0000 - val_loss: 0.9102 - val_acc: 0.6833\n",
      "Epoch 39/80\n",
      " - 4s - loss: 0.0062 - acc: 1.0000 - val_loss: 0.9107 - val_acc: 0.6833\n",
      "Epoch 40/80\n",
      " - 4s - loss: 0.0047 - acc: 1.0000 - val_loss: 0.9235 - val_acc: 0.6833\n",
      "Epoch 41/80\n",
      " - 4s - loss: 0.0061 - acc: 0.9976 - val_loss: 0.9303 - val_acc: 0.6833\n",
      "Epoch 42/80\n",
      " - 4s - loss: 0.0051 - acc: 1.0000 - val_loss: 0.9528 - val_acc: 0.6833\n",
      "Epoch 43/80\n",
      " - 4s - loss: 0.0041 - acc: 1.0000 - val_loss: 0.9641 - val_acc: 0.6833\n",
      "Epoch 44/80\n",
      " - 4s - loss: 0.0042 - acc: 1.0000 - val_loss: 0.9714 - val_acc: 0.6833\n",
      "Epoch 45/80\n",
      " - 5s - loss: 0.0035 - acc: 1.0000 - val_loss: 0.9684 - val_acc: 0.6833\n",
      "Epoch 46/80\n",
      " - 4s - loss: 0.0037 - acc: 1.0000 - val_loss: 0.9686 - val_acc: 0.6833\n",
      "Epoch 47/80\n",
      " - 4s - loss: 0.0036 - acc: 1.0000 - val_loss: 0.9679 - val_acc: 0.6833\n",
      "Epoch 48/80\n",
      " - 4s - loss: 0.0034 - acc: 1.0000 - val_loss: 0.9780 - val_acc: 0.6833\n",
      "Epoch 49/80\n",
      " - 4s - loss: 0.0030 - acc: 1.0000 - val_loss: 0.9875 - val_acc: 0.6833\n",
      "Epoch 50/80\n",
      " - 4s - loss: 0.0027 - acc: 1.0000 - val_loss: 0.9956 - val_acc: 0.6833\n",
      "Epoch 51/80\n",
      " - 4s - loss: 0.0032 - acc: 1.0000 - val_loss: 1.0021 - val_acc: 0.6833\n",
      "Epoch 52/80\n",
      " - 4s - loss: 0.0032 - acc: 1.0000 - val_loss: 1.0044 - val_acc: 0.6833\n",
      "Epoch 53/80\n",
      " - 4s - loss: 0.0024 - acc: 1.0000 - val_loss: 1.0099 - val_acc: 0.6833\n",
      "Epoch 54/80\n",
      " - 4s - loss: 0.0025 - acc: 1.0000 - val_loss: 1.0177 - val_acc: 0.6833\n",
      "Epoch 55/80\n",
      " - 4s - loss: 0.0025 - acc: 1.0000 - val_loss: 1.0218 - val_acc: 0.6917\n",
      "Epoch 56/80\n",
      " - 4s - loss: 0.0028 - acc: 1.0000 - val_loss: 1.0209 - val_acc: 0.6917\n",
      "Epoch 57/80\n",
      " - 4s - loss: 0.0032 - acc: 1.0000 - val_loss: 1.0098 - val_acc: 0.6833\n",
      "Epoch 58/80\n",
      " - 4s - loss: 0.0027 - acc: 1.0000 - val_loss: 0.9966 - val_acc: 0.6833\n",
      "Epoch 59/80\n",
      " - 4s - loss: 0.0023 - acc: 1.0000 - val_loss: 0.9906 - val_acc: 0.6750\n",
      "Epoch 60/80\n",
      " - 4s - loss: 0.0023 - acc: 1.0000 - val_loss: 0.9927 - val_acc: 0.6750\n",
      "Epoch 61/80\n",
      " - 4s - loss: 0.0020 - acc: 1.0000 - val_loss: 0.9992 - val_acc: 0.6750\n",
      "Epoch 62/80\n",
      " - 4s - loss: 0.0020 - acc: 1.0000 - val_loss: 1.0071 - val_acc: 0.6750\n",
      "Epoch 63/80\n",
      " - 4s - loss: 0.0020 - acc: 1.0000 - val_loss: 1.0132 - val_acc: 0.6750\n",
      "Epoch 64/80\n",
      " - 4s - loss: 0.0019 - acc: 1.0000 - val_loss: 1.0199 - val_acc: 0.6833\n",
      "Epoch 65/80\n",
      " - 4s - loss: 0.0019 - acc: 1.0000 - val_loss: 1.0236 - val_acc: 0.6833\n",
      "Epoch 66/80\n",
      " - 4s - loss: 0.0019 - acc: 1.0000 - val_loss: 1.0271 - val_acc: 0.6833\n",
      "Epoch 67/80\n",
      " - 4s - loss: 0.0019 - acc: 1.0000 - val_loss: 1.0225 - val_acc: 0.6833\n",
      "Epoch 68/80\n",
      " - 4s - loss: 0.0017 - acc: 1.0000 - val_loss: 1.0230 - val_acc: 0.6833\n",
      "Epoch 69/80\n",
      " - 4s - loss: 0.0017 - acc: 1.0000 - val_loss: 1.0209 - val_acc: 0.6833\n",
      "Epoch 70/80\n",
      " - 4s - loss: 0.0017 - acc: 1.0000 - val_loss: 1.0186 - val_acc: 0.6833\n",
      "Epoch 71/80\n",
      " - 4s - loss: 0.0015 - acc: 1.0000 - val_loss: 1.0183 - val_acc: 0.6833\n",
      "Epoch 72/80\n",
      " - 4s - loss: 0.0016 - acc: 1.0000 - val_loss: 1.0211 - val_acc: 0.6833\n",
      "Epoch 73/80\n",
      " - 4s - loss: 0.0015 - acc: 1.0000 - val_loss: 1.0276 - val_acc: 0.6833\n",
      "Epoch 74/80\n",
      " - 4s - loss: 0.0015 - acc: 1.0000 - val_loss: 1.0341 - val_acc: 0.6833\n",
      "Epoch 75/80\n",
      " - 4s - loss: 0.0014 - acc: 1.0000 - val_loss: 1.0404 - val_acc: 0.6833\n",
      "Epoch 76/80\n",
      " - 4s - loss: 0.0014 - acc: 1.0000 - val_loss: 1.0436 - val_acc: 0.6833\n",
      "Epoch 77/80\n",
      " - 4s - loss: 0.0014 - acc: 1.0000 - val_loss: 1.0440 - val_acc: 0.6833\n",
      "Epoch 78/80\n",
      " - 4s - loss: 0.0014 - acc: 1.0000 - val_loss: 1.0522 - val_acc: 0.6833\n",
      "Epoch 79/80\n",
      " - 4s - loss: 0.0014 - acc: 1.0000 - val_loss: 1.0626 - val_acc: 0.6833\n",
      "Epoch 80/80\n",
      " - 4s - loss: 0.0013 - acc: 1.0000 - val_loss: 1.0691 - val_acc: 0.6833\n",
      "Training completed!\n"
     ]
    }
   ],
   "source": [
    "'''\n",
    "Train model \n",
    "Skip if we already have a model\n",
    "'''\n",
    "# Compile and Train model\n",
    "model.compile(optimizer=Adam(lr = 0.0005), loss='binary_crossentropy', metrics=['acc'], )\n",
    "save_best = ModelCheckpoint('articles0.hdf', save_best_only=True, monitor='val_loss', mode='min')\n",
    "print('Training model. Plz be patient......')\n",
    "hist = model.fit(X_train, y_train, validation_data=(X_eval, y_eval),verbose=2,epochs=66, callbacks=[save_best], batch_size=64)\n",
    "\n",
    "print('Training completed!')"
   ]
  },
  {
   "cell_type": "code",
   "execution_count": null,
   "metadata": {},
   "outputs": [],
   "source": []
  },
  {
   "cell_type": "code",
   "execution_count": 22,
   "metadata": {},
   "outputs": [
    {
     "data": {
      "image/png": "[encoded data removed]",
      "text/plain": [
       "<matplotlib.figure.Figure at 0x7fe5b9a5a5c0>"
      ]
     },
     "metadata": {},
     "output_type": "display_data"
    }
   ],
   "source": [
    "# plotting the metrics\n",
    "fig = plt.figure()\n",
    "plt.subplot(2,1,1)\n",
    "plt.plot(hist.history['acc'])\n",
    "plt.plot(hist.history['val_acc'])\n",
    "plt.title('model accuracy')\n",
    "plt.ylabel('accuracy')\n",
    "plt.xlabel('epoch')\n",
    "plt.legend(['train', 'valid'], loc='upper left')\n",
    "plt.subplot(2,1,2)\n",
    "plt.plot(hist.history['loss'])\n",
    "plt.plot(hist.history['val_loss'])\n",
    "plt.title('model loss')\n",
    "plt.ylabel('loss')\n",
    "plt.xlabel('epoch')\n",
    "plt.legend(['train', 'valid'], loc='upper left')\n",
    "plt.tight_layout()\n",
    "#fig"
   ]
  },
  {
   "cell_type": "code",
   "execution_count": 103,
   "metadata": {},
   "outputs": [
    {
     "name": "stdout",
     "output_type": "stream",
     "text": [
      "acc:  0.8\n",
      "auc:  0.7782805429864253\n",
      "precision:  0.7619047619047619\n",
      "recall:  0.9411764705882353\n",
      "fscore:  0.8421052631578947\n"
     ]
    }
   ],
   "source": [
    "# Prediction on test\n",
    "model.load_weights(filepath='articles0.hdf')\n",
    "predictions = model.predict(X_test)\n",
    "y_pred = np.argmax(predictions, axis=1)\n",
    "y_true = np.argmax(y_test, axis=1)\n",
    "\n",
    "[[TN, FP], [FN, TP]] = confusion_matrix(y_true, y_pred, labels=[0, 1]).astype(float)\n",
    "accuracy = (TP+TN)/(TP+TN+FP+FN)\n",
    "auc = roc_auc_score(y_true, y_pred)\n",
    "specificity = TN/(FP+TN)\n",
    "precision = TP/(TP+FP)\n",
    "sensitivity = recall = TP/(TP+FN)\n",
    "fscore = 2*TP/(2*TP+FP+FN)\n",
    "\n",
    "print('acc: ', accuracy)\n",
    "print('auc: ', auc)\n",
    "print('precision: ', precision)\n",
    "print('recall: ', recall)\n",
    "print('fscore: ', fscore)"
   ]
  },
  {
   "cell_type": "markdown",
   "metadata": {},
   "source": [
    "## Make prediction"
   ]
  },
  {
   "cell_type": "code",
   "execution_count": 82,
   "metadata": {},
   "outputs": [],
   "source": [
    "model.load_weights(filepath='articles0.hdf')\n",
    "\n",
    "new_dat = pd.read_csv('embed_to_predict.csv')\n",
    "new_dat = new_dat['Sentence']\n",
    "\n",
    "new_dat = new_dat[new_dat.notnull()]\n",
    "new_lines = []\n",
    "#i = 0\n",
    "for x in new_dat:\n",
    "#    i+=1\n",
    "    new_lines.append(len(list(filter(str.strip ,x.split('\\n')))))\n",
    "#    print(i)\n",
    "\n",
    "\n",
    "#new_dat = new_dat.assign(length = new_lines)\n",
    "\n"
   ]
  },
  {
   "cell_type": "code",
   "execution_count": 105,
   "metadata": {},
   "outputs": [
    {
     "name": "stdout",
     "output_type": "stream",
     "text": [
      "Found 31417 unique tokens.\n",
      "Shape of data tensor: (10142, 100)\n"
     ]
    }
   ],
   "source": [
    "# Test our model\n",
    "import json\n",
    "\n",
    "#model.load_weights(filepath='articles0.hdf')\n",
    "\n",
    "new_data = pd.read_csv('embed_to_predict.csv')\n",
    "new_dat = new_data['Sentence']\n",
    "\n",
    "new_dat = new_dat[new_dat.notnull()]\n",
    "\n",
    "\n",
    "new_articles = []\n",
    "for x in new_dat:\n",
    "    for i in range(len(list(filter(str.strip ,x.split('\\n'))))):\n",
    "        new_articles.append(x.split('\\n')[i])\n",
    "\n",
    "#test_tags = []\n",
    "# for index, row in test_dat.iterrows():\n",
    "#     for i in range(row['length']):\n",
    "#         test_tags.append(row['tags'])\n",
    "\n",
    "# test_data = pd.DataFrame({'lines': test_articles, 'tags': test_tags})\n",
    "# #data = data[data.lines.notnull()][data['lines'] != ''][data.tags.notnull()]\n",
    "# punctuation = \"[\\s+\\t+\\.\\!\\:\\/_,$%^*(+\\\"\\')]+|[+——()?【】“”！，。？、~@#￥%……&*（）：；–•\\−\\-\\uf0fc+\\uf0a7]|[0-9]+\"\n",
    "\n",
    "\n",
    "# test_X = test_data[test_data.columns[0]]\n",
    "# test_X = pd.Series([regex.sub(punctuation,'', x) for x in test_X])\n",
    "# test_y = test_data[test_data.columns[1]]\n",
    "\n",
    "# c_label = pd.DataFrame({'tags':list(set(test_y)), 'category':range(len(set(test_y)))})\n",
    "# y_label = pd.DataFrame({'tags':test_y})\n",
    "# test_labels = pd.merge(y_label, c_label, how = 'left', on=['tags'])\n",
    "\n",
    "# new_articles = [regex.sub(punctuation,'', x) for x in test_articles]\n",
    "# new_articles = [jieba.lcut(x) for x in test_articles]\n",
    "# new_articles = [' '.join(x) for x in test_articles]\n",
    "#articles = list(filter(str.strip, articles))\n",
    "\n",
    "new_tokenizer = Tokenizer(nb_words=550)\n",
    "new_tokenizer.fit_on_texts(new_articles)\n",
    "new_sequences = tokenizer.texts_to_sequences(new_articles)\n",
    "\n",
    "new_word_index = new_tokenizer.word_index\n",
    "print('Found %s unique tokens.' % len(new_word_index))\n",
    "\n",
    "new_datas = pad_sequences(new_sequences, maxlen=100)\n",
    "\n",
    "#new_lab = np_utils.to_categorical(np.asarray(test_labels[test_labels.columns[1]]))\n",
    "print('Shape of data tensor:', new_datas.shape)\n",
    "#print('Shape of label tensor:', new_lab.shape)\n",
    "\n",
    "\n",
    "predictions = model.predict(new_datas)\n",
    "pred_labels = np.argmax(predictions, axis=1)"
   ]
  },
  {
   "cell_type": "code",
   "execution_count": 110,
   "metadata": {},
   "outputs": [],
   "source": [
    "count = {}\n",
    "for x in tags:\n",
    "    count[x] = count.get(x, 0) + 1\n",
    "    "
   ]
  },
  {
   "cell_type": "code",
   "execution_count": 111,
   "metadata": {},
   "outputs": [
    {
     "data": {
      "text/plain": [
       "{0: 118, 1: 182}"
      ]
     },
     "execution_count": 111,
     "metadata": {},
     "output_type": "execute_result"
    }
   ],
   "source": [
    "count"
   ]
  },
  {
   "cell_type": "code",
   "execution_count": 111,
   "metadata": {},
   "outputs": [],
   "source": [
    "pred_dat = new_data.assign(prediction = pred_labels)\n",
    "pred_dat.to_csv('pred_dat.csv', index = False)"
   ]
  }
 ],
 "metadata": {
  "kernelspec": {
   "display_name": "Python 3",
   "language": "python",
   "name": "python3"
  },
  "language_info": {
   "codemirror_mode": {
    "name": "ipython",
    "version": 3
   },
   "file_extension": ".py",
   "mimetype": "text/x-python",
   "name": "python",
   "nbconvert_exporter": "python",
   "pygments_lexer": "ipython3",
   "version": "3.6.4"
  }
 },
 "nbformat": 4,
 "nbformat_minor": 2
}
