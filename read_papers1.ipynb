{
 "cells": [
  {
   "cell_type": "code",
   "execution_count": 1,
   "metadata": {
    "collapsed": true
   },
   "outputs": [],
   "source": [
    "from pdfminer.pdfparser import PDFParser\n",
    "from pdfminer.converter import PDFPageAggregator\n",
    "from pdfminer.pdfdocument import PDFDocument\n",
    "from pdfminer.pdfinterp import PDFResourceManager, PDFPageInterpreter\n",
    "from pdfminer.converter import TextConverter\n",
    "from pdfminer.layout import LAParams\n",
    "from pdfminer.pdfpage import PDFPage\n",
    "from pdfminer.pdfpage import PDFTextExtractionNotAllowed\n",
    "from pdfminer.pdfinterp import PDFResourceManager\n",
    "from pdfminer.pdfinterp import PDFPageInterpreter\n",
    "from pdfminer.pdfdevice import PDFDevice\n",
    "import urllib.request\n",
    "import urllib.parse\n",
    "\n",
    "from io import StringIO\n",
    "import pandas as pd\n",
    "import numpy as np\n",
    "import re\n",
    "import os\n",
    "import itertools\n"
   ]
  },
  {
   "cell_type": "code",
   "execution_count": 2,
   "metadata": {},
   "outputs": [
    {
     "name": "stdout",
     "output_type": "stream",
     "text": [
      "/Users/llc/Downloads/graphen/paper\n"
     ]
    }
   ],
   "source": [
    "print(os.getcwd())\n"
   ]
  },
  {
   "cell_type": "markdown",
   "metadata": {},
   "source": [
    "This is a function which helps to convert the file to pdf format."
   ]
  },
  {
   "cell_type": "code",
   "execution_count": 3,
   "metadata": {
    "collapsed": true
   },
   "outputs": [],
   "source": [
    "def convert_pdf_to_txt(path=\"./\"):\n",
    "    rsrcmgr = PDFResourceManager()\n",
    "    retstr = StringIO()\n",
    "    codec = 'utf-8'\n",
    "    laparams = LAParams()\n",
    "    device = TextConverter(rsrcmgr, retstr, codec=codec, laparams=laparams)\n",
    "    fp = open(path, 'rb')\n",
    "    interpreter = PDFPageInterpreter(rsrcmgr, device)\n",
    "    maxpages = 40\n",
    "    caching = True\n",
    "    pagenos=set()\n",
    "\n",
    "    for page in PDFPage.get_pages(fp, pagenos, maxpages=maxpages, caching=caching, check_extractable=True):\n",
    "        interpreter.process_page(page)\n",
    "\n",
    "    text = retstr.getvalue()\n",
    "    fp.close()\n",
    "    device.close()\n",
    "    retstr.close()\n",
    "    return text\n",
    "\n"
   ]
  },
  {
   "cell_type": "code",
   "execution_count": 5,
   "metadata": {},
   "outputs": [
    {
     "data": {
      "text/plain": [
       "list"
      ]
     },
     "execution_count": 5,
     "metadata": {},
     "output_type": "execute_result"
    }
   ],
   "source": [
    "papers = os.listdir('./doc')\n"
   ]
  },
  {
   "cell_type": "code",
   "execution_count": 7,
   "metadata": {
    "collapsed": true
   },
   "outputs": [],
   "source": [
    "####ADD another chunk to read the additional papers####\n",
    "\n",
    "document = []\n",
    "for paper in papers:\n",
    "    dir = './doc/' + paper\n",
    "    document.append(convert_pdf_to_txt(dir))"
   ]
  },
  {
   "cell_type": "code",
   "execution_count": null,
   "metadata": {},
   "outputs": [
    {
     "name": "stdout",
     "output_type": "stream",
     "text": [
      "['page16', 'page20', 'page27', 'page18', 'page26', 'page19', 'page21', 'page17', 'page24', 'page23', 'page22', 'page25']\n"
     ]
    }
   ],
   "source": [
    "\n",
    "add_paperfiles = os.listdir('./doc1/')\n",
    "fil_paperfiles = []\n",
    "for fil in add_paperfiles:\n",
    "    if \"page\" in fil:\n",
    "        fil_paperfiles.append(fil)\n",
    "print(fil_paperfiles)\n",
    "for fil in fil_paperfiles:\n",
    "    for paperfiles in os.listdir(str(\"./doc1/\")+str(fil)):\n",
    "        document.append(convert_pdf_to_txt(str(\"./doc1/\")+str(fil)+\"/\"+str(paperfiles)))\n",
    "\n"
   ]
  },
  {
   "cell_type": "code",
   "execution_count": 6,
   "metadata": {},
   "outputs": [
    {
     "data": {
      "text/plain": [
       "'Problems-of-variable-biomarker-evaluation-in-stratified-medicine-_2016_Lung-.pdf'"
      ]
     },
     "execution_count": 6,
     "metadata": {},
     "output_type": "execute_result"
    }
   ],
   "source": [
    "sorted(os.listdir(\"./\"))\n",
    "papers[0]"
   ]
  },
  {
   "cell_type": "code",
   "execution_count": 13,
   "metadata": {},
   "outputs": [
    {
     "name": "stdout",
     "output_type": "stream",
     "text": [
      "2286\n"
     ]
    }
   ],
   "source": [
    "print(len(document))\n",
    "np.savez(\"all_the_papers\", text=document)"
   ]
  },
  {
   "cell_type": "code",
   "execution_count": 64,
   "metadata": {},
   "outputs": [
    {
     "name": "stdout",
     "output_type": "stream",
     "text": [
      "2286\n"
     ]
    }
   ],
   "source": [
    "document=np.load(\"all_the_papers.npz\")[\"text\"]\n",
    "print(len(document))\n",
    "for i in range(len(document)):\n",
    "    document[i] = document[i].replace(\"\\\\n\",\"\")\n",
    "processed = document"
   ]
  },
  {
   "cell_type": "markdown",
   "metadata": {},
   "source": [
    "Now the papers are already formatted. We are going to locate the gene names and extract three word after the first gene name appears and three words before the second gene name.\n"
   ]
  },
  {
   "cell_type": "code",
   "execution_count": 65,
   "metadata": {
    "collapsed": true
   },
   "outputs": [],
   "source": [
    "geneweb=\"https://www.genome.jp/dbget-bin/get_linkdb?-t+9+path:map05223\"\n",
    "x = urllib.request.urlopen(geneweb)\n",
    "text=x.read()\n",
    "text=str(text)\n"
   ]
  },
  {
   "cell_type": "markdown",
   "metadata": {},
   "source": [
    "The items in dictionary d are the genes names"
   ]
  },
  {
   "cell_type": "code",
   "execution_count": 66,
   "metadata": {
    "collapsed": true
   },
   "outputs": [],
   "source": [
    "regex = 'K[0-9]{5}</a>'\n",
    "result=re.finditer(regex,text)\n",
    "indices = [m.start(0) for m in result]\n",
    "d = dict()\n",
    "for i in indices:\n",
    "    s1 = text[i:i+6]\n",
    "    s2 = text[i+25:i+text[i:].find(';')]\n",
    "    d[s1] = s2\n"
   ]
  },
  {
   "cell_type": "code",
   "execution_count": 67,
   "metadata": {
    "collapsed": true
   },
   "outputs": [],
   "source": [
    "red={value:key for key,value in d.items()}\n"
   ]
  },
  {
   "cell_type": "markdown",
   "metadata": {},
   "source": [
    "The keys in dict1 are the gene names in papers.\n",
    "We are going to locate their positions in the paper"
   ]
  },
  {
   "cell_type": "code",
   "execution_count": 68,
   "metadata": {
    "collapsed": true
   },
   "outputs": [],
   "source": [
    "dict1 = {}\n",
    "for ke,va in red.items():\n",
    "    ke=ke.split(\", \")\n",
    "    for i in range(len(ke)):\n",
    "        dict1[ke[i]] = va\n",
    "\n",
    "#We need to add more gene names to this dictionary, because they appear slight differently in papers.\n",
    "dict1['K-RAS']='K07827'\n",
    "dict1['N-RAS']='K07827'\n",
    "dict1['RAS']='K07827'\n",
    "dict1['H-RAS']='K02833'\n",
    "dict1['HER-2'] = 'K05083'\n",
    "dict1['PLCG-1'] = 'K01116'\n",
    "dict1['PLCG-2'] = 'K05859'\n",
    "dict1['STAT'] = 'K11224'\n",
    "dict1['MEK'] = 'K04368'\n",
    "\n"
   ]
  },
  {
   "cell_type": "markdown",
   "metadata": {},
   "source": [
    "In the next chunk below, we have found another dictionary from https://www.genecards.org"
   ]
  },
  {
   "cell_type": "code",
   "execution_count": 69,
   "metadata": {
    "collapsed": true
   },
   "outputs": [],
   "source": [
    "data = pd.read_csv('GeneCards-SearchResults.csv')\n",
    "gs = data['Gene Symbol']\n",
    "des = data['Description']\n",
    "des_len = len(des)\n",
    "des_1 = []\n",
    "for i in range (des_len):\n",
    "    word = str(des[i]).split(\" \")[0]\n",
    "    des_1.append(word)\n",
    "gene_dict = {}\n",
    "for i in range (des_len):\n",
    "    gene_dict[gs[i]] = des_1[i]\n"
   ]
  },
  {
   "cell_type": "code",
   "execution_count": 70,
   "metadata": {},
   "outputs": [
    {
     "name": "stdout",
     "output_type": "stream",
     "text": [
      "Total number of gene names we are using is 16424\n"
     ]
    }
   ],
   "source": [
    "#WE have two dicts one is from gene cards.com we downloaded the csv file there. \n",
    "#We used webscraping techniques to download the genes related with non-small cell lung cancer\n",
    "def merge_dicts(x, y):\n",
    "    z = x.copy()  \n",
    "    z.update(y)\n",
    "    return z\n",
    "merged_dict=merge_dicts(dict1,gene_dict)\n",
    "print(\"Total number of gene names we are using is \"+ str(len(merged_dict)))"
   ]
  },
  {
   "cell_type": "code",
   "execution_count": 71,
   "metadata": {},
   "outputs": [
    {
     "name": "stdout",
     "output_type": "stream",
     "text": [
      "[<_sre.SRE_Match object; span=(38670, 38673), match='ALK'>, <_sre.SRE_Match object; span=(2759, 2762), match='RAS'>, <_sre.SRE_Match object; span=(9966, 9970), match='STAT'>]\n"
     ]
    }
   ],
   "source": [
    "def locate_genes(text):\n",
    "    orders=[]\n",
    "    upp=text.upper()\n",
    "    for gene in dict1.keys():\n",
    "        ls=re.search(gene,upp)\n",
    "        if ls is not None:\n",
    "            orders.append(ls)\n",
    "    return orders\n",
    "print(locate_genes(processed[0]))\n",
    "\n",
    "def Collection_of_pdfs(path=\"../doc\"):\n",
    "    checked = []\n",
    "    for pdf_file in os.listdir(path):\n",
    "        if pdf_file[-4:] == \".pdf\":\n",
    "            checked.append(pdf_file)\n",
    "    return checked\n",
    "#print(Collection_of_pdfs())"
   ]
  },
  {
   "cell_type": "code",
   "execution_count": 72,
   "metadata": {
    "collapsed": true
   },
   "outputs": [],
   "source": [
    "dict2 = {}\n",
    "for key, value in merged_dict.items():\n",
    "    dict2[key] = value\n",
    "for key, value in merged_dict.items():\n",
    "    regex = r'[A-Z]{2,}'\n",
    "    regex_match = re.findall(regex, key)\n",
    "    if regex_match != []:\n",
    "        dict2[regex_match[0]] = 1\n"
   ]
  },
  {
   "cell_type": "code",
   "execution_count": 73,
   "metadata": {},
   "outputs": [
    {
     "name": "stdout",
     "output_type": "stream",
     "text": [
      "[['002)\\n\\nThe sequencing of human DNA for the human genome\\nproject has led to the emergence of technologies that iden-\\ntify genomic, transcriptional, proteomic, and epigenetic al-\\nterations in patients’\\ntumors', 'DNA', 'HAS'], ['5,6\\nThe NGS high-throughput platform is more efﬁcient and less\\nexpensive and provides information that is not provided by\\nsingle gene-by-gene Sanger DNA sequencing analysis or by\\ngene-speciﬁc targeted hot spot mutation assays', 'DNA', 'OR'], [' NGS results obtained using DNA or RNA\\nextracted from tumor tissue frequently demonstrate a com-\\nplex molecular signature that is different from that of normal\\ntissue for any given patient', 'DNA', 'OR'], [' A\\ngermline variant is deﬁned as a genetic alteration that occurs\\nwithin the germ cells (egg or sperm), such that the alteration\\ncan be passed to subsequent generations', 'AS', 'OR'], [' Genetic variations may be acti-\\nvating, resulting in a gain of function of the protein, such as a\\nmissense mutation in the functional or kinase domain of the\\nprotein, allowing for autophosphorylation of the protein, the\\nloss of regulation for downstream signaling, and uncon-\\ntrolled cell growth and proliferation', 'AS', 'OR'], [' Examples of CNVs\\ninclude the common loss (deletion) of the tumor-suppressor\\nRB1 gene in retinoblastoma or the gain (ampliﬁcation) of\\nthe oncogene ERBB2 in invasive breast carcinoma', 'OR', 'ERBB2'], [' In addi-\\nincluding chromosome\\ntion,\\ntranslocations, deletions, duplication, or\\ninversions, are\\nfrequently identiﬁed in tumor DNA and result in gene fusions\\nand associated fusion proteins with unique cancer-promoting\\nproperties, such as the EML4-ALK recurrent inversion mu-\\ntation that is seen in non-small cell lung cancer', 'DNA', 'AS'], [' This in-\\nformation can provide diagnostic or prognostic information,\\nidentify a potential treatment regimen or targeted therapy,\\nand determine eligibility for the following: i) a Food and\\nDrug Administration (FDA)eapproved medication for that\\ntumor type, ii) a medication available as off-label treatment\\nfor the speciﬁc molecular alteration in a nonapproved tumor\\ntype, or iii) a targeted therapy available in clinical trials with\\ninvestigational agents based on an identiﬁed molecular\\nalteration', 'OR', 'AS'], ['\\nC: Reported includes therapies approved by Food and Drug Administration (FDA) or contained in professional guidelines, or investigational therapies such as\\nclinical trials for investigational drugs or off-label use of FDA approved drugs', 'OR', 'USE'], [' As a\\ngeneral\\nshould exercise the\\nfollowing cautionary steps on the use of public databases:\\n\\nrule, clinical\\n\\nlaboratories\\n\\n1', 'AS', 'USE'], [' Assess the quality of the provided genomic data based on\\nthe source, from publications or another database, the\\nnumber of a speciﬁc entry, single or multiple, the depth\\nof the study, the use of appropriate controls, conﬁrmation\\nof a variant’s somatic origin, and functional and potential\\ndrug response studies', 'OR', 'USE'], ['33\\n\\nIt\\n\\nCancer-Speciﬁc Databases\\n\\nThese databases provide information about the incidence and\\nprevalence of sequence variants across the spectrum of\\ndifferent cancers and subtypes, cross-references to other\\ngenomic databases, as well as references to published liter-\\nature with or without systematic review, cellular pathways,\\ntargeted therapies, clinical trials, and outcome data', 'AS', 'OR'], ['\\n\\nConstitutional Variant Databases\\n\\nis common that\\n\\ntumor sequencing with or without\\nIt\\nmatched normal\\ntissues may reveal variants that are of\\ngermline origin, such as pathogenic variants in genes\\nassociated with cancer predisposition syndromes', 'OR', 'AS'], [' Germline\\nmutation databases, such as the Human Gene Mutation\\nDatabase and other disease- or locus-speciﬁc mutation da-\\ntabases, are useful resources for evaluating these variants', 'AS', 'OR'], [' Subsequently,\\ntheir use was extrapolated for interpreting somatic variants', 'USE', 'WAS'], ['\\nSplice site prediction algorithms use a variety of statistical\\napproaches, such as the Markov model, machine learning\\n(neural networks), and the maximum entropy principle, to\\npredict if a variant will have any impact on splicing', 'USE', 'AS'], [' It is recommended that the results of\\nthese prediction algorithms should never be used as the sole\\nevidence for variant classiﬁcation or clinical decision making', 'AS', 'OR'], ['\\n\\nThe results of variant calling are typically represented in\\none of the several standardized formats, such as the clinical\\nvariant call format (VCF), genomic VCF, and general feature\\nformat (alias gene-ﬁnding format or generic feature format)', 'AS', 'OR'], [' Unlike inter-\\npretation of germline sequence variations, which focuses on\\npathogenicity of a variant for a speciﬁc disease or disease\\ncausality,\\ninterpretation of somatic variants should be\\nfocused on their impact on clinical care', 'OR', 'IMPACT'], [' A variant can be\\nconsidered a biomarker that affects clinical care if it predicts\\nsensitivity, resistance, or toxicity to a speciﬁc therapy, alters\\n\\nthe function of the gene, which can be targeted by approved\\nor investigational drugs, serves as an inclusion criterion for\\nclinical trials, inﬂuences disease prognosis, assists in estab-\\nlishing a diagnosis of a cancer, or warrants implementing\\nsurveillance measures for early cancer detection', 'OR', 'AS'], [' Level C, biomarkers that predict response or resistance to\\ntherapies approved by FDA or professional societies for a\\ndifferent tumor type (ie, off-label use of a drug), serve as\\ninclusion criteria for clinical trials, or have diagnostic\\nand/or prognostic signiﬁcance based on the results of\\nmultiple small studies;\\n\\n4', 'OR', 'USE'], [' Biomarkers that serve as inclusion\\n\\ncriteria for clinical trials\\n\\nfor a speciﬁc type of tumor based on\\nwell-powered studies with consensus\\nfrom experts in the ﬁeld\\n\\nfor a speciﬁc type of tumor based on\\nwell-powered studies with consensus\\nfrom experts in the ﬁeld\\n\\nBiomarkers of diagnostic signiﬁcance\\n\\nBiomarkers of prognostic signiﬁcance\\n\\nbased on the results of multiple small\\nstudies\\n\\nbased on the results of multiple small\\nstudies\\n\\nLevel D\\n\\nBiomarkers that show plausible\\n\\nBiomarkers that may assist disease\\n\\nBiomarkers that may assist disease\\n\\ntherapeutic signiﬁcance based on\\npreclinical studies\\n\\ndiagnosis themselves or along with\\nother biomarkers based on small\\nstudies or a few case reports\\n\\nprognosis themselves or along with\\nother biomarkers based on small\\nstudies or a few case reports\\n\\nFDA, Food and Drug Administration', 'AS', 'OR'], ['\\nDetermination of the pathogenicity or clinical impact of\\nvariants in cancer remains a monumental task', 'OR', 'IMPACT'], [' It is within\\nthe scope of the molecular professional’s medical practice to\\nuse his or her considered judgment regarding the evidence\\nderived from these sources (Tables 4e7)', 'OR', 'HER'], ['73e75 Two recently published multicenter\\nphase 2 clinical trials, in addition to multiple smaller studies,\\ndemonstrate that BRAF inhibitor vemurafenib is highly\\neffective (96% response rate) in patients with relapsed or re-\\nfractory hairy-cell leukemia', 'BRAF', 'OR'], ['76 Another example, multiple\\nrecent studies demonstrate strong evidence that mutations of\\nRAS genes or ampliﬁcation of mutated BRAF gene reactivates\\nthe mitogen-activated protein kinase pathway, resulting in\\nin\\nacquired\\n\\nto BRAF inhibitor\\n\\nresistance\\n\\ntherapy\\n\\nAvailable evidence\\nTherapeutic: FDA approved or investigational with strong evidence*\\nDiagnostic: In PG or reported evidence with consensus\\nPrognostic: In PG or reported evidence with consensus\\nActivating, LOF (missense, nonsense, indel, splicing), CNVs, fusions\\nMostly mosaic\\nMostly nonmosaic (VAF approximately 50% or 100%)\\nAbsent or extremely low MAF\\nMay or may not be present\\nMost likely present\\nMostly damaging; information to be used for reference only\\nDisease-associated pathways\\nTherapeutic: reported evidence with consensus\\nDiagnostic: reported evidence with consensus\\nPrognostic: reported evidence with consensus\\n\\nItalicized text indicates examples provided within each category; these are not comprehensive lists, and inclusion does not represent an organizational\\n\\nendorsement of any individual database or product', 'OR', 'BRAF'], [' Examples include activating KIT mutations\\n(typically D816V) that are present in virtually all adults\\n(93%) with indolent and aggressive forms of systemic\\nmastocytosis82e84; a BRAF mutation (typically V600E) that\\nis used as a diagnostic and prognostic marker for papillary\\nthyroid\\naspiration\\nsamples85e87; KIAA1549-BRAF fusion, which is diagnostic\\nfor pilocytic astrocytoma and is associated with a better\\nclinical outcome88,89; and EWSR1 fusions, mostly EWSR1-\\nFLI1, seen in nearly 100% of\\nthe Ewings family of\\ntumors, which have greatly enhanced the ability to differ-\\nentiate Ewings family of tumors from other small blue\\nround cell tumors', 'KIT', 'BRAF'], [' As an example, the JAK inhibitor ruxolitinib is an\\nFDA-approved drug for the treatment of myeloﬁbrosis\\nbased on the results of clinical trials that showed signiﬁcant\\nbeneﬁts of reducing spleen size and relieving myeloﬁbrosis-\\nrelated symptoms, and improving overall survival (FDA\\nRuxolitinib, http://www', 'AS', 'JAK'], ['97 Clinical\\ntrials are being developed to test JAK inhibitor therapy in\\nchildren with acute lymphoblastic leukemia and JAK2 mu-\\ntations', 'JAK', 'JAK2'], [' For this\\nreason, restoring normal tumor-suppressor functions of p53\\nprotein has been the center of pharmaceutical research tar-\\ngeting mutated p53', 'HAS', 'P53'], ['org - The Journal of Molecular Diagnostics\\n\\n\\x0cTier IV: Benign/Likely Benign Variants\\n\\nTable 7\\nEvidence source/type\\nFDA-approved therapies, PG, investigational therapies\\nMutation type\\n\\nVariant frequencies\\nPotential germline*\\nPopulation database: ESP, dbSNP, 1000Genome, ExAC\\n\\nGermline database: HGMD, ClinVar\\nSomatic database: COSMIC, My Cancer Genome, TCGA\\n\\nPredictive software: SIFT, PolyPhen2, MutTaster, CADD\\nPathway involvement\\nPublications: functional study, population study, other\\n\\nSomatic Variant Interpretation/Reporting\\n\\nAvailable evidence\\n\\nNone\\nFunctionally benign or unknown; mostly missense; less commonly, other\\n\\ntypes\\n\\nMostly nonmosaic (VAF, approximately 50% or 100%)\\nMostly nonmosaic (VAF, approximately 50% or 100%)\\nMAF \\x15 1% in the general population; or high MAF in some ethnic\\npopulations\\n\\nAbsent or present but downgraded to benign/likely benign\\nAbsent or present without association to speciﬁc tumors (potential rare\\n\\ngermline polymorphism)\\n\\nMostly benign; information to be used for reference only\\nMay or may not involve disease-associated pathways\\nReported evidence supportive of benign/likely benign; or none\\n\\nItalicized text indicates examples provided within each category; these are not comprehensive lists, and inclusion does not represent an organizational\\n\\nendorsement of any individual database or product', 'OR', 'MAF'], [' Somatic\\nvariants are acquired after birth and typically result from\\nerrors in DNA replication or repair or from environmental\\ninsults', 'DNA', 'OR'], [' Certain\\ngermline variants, such as large indels, may lead to pref-\\nerential ampliﬁcation (in amplicon-based tests) or capture\\n(in capture-based tests) of normal alleles because of the loss\\nof sequence homology of the variant alleles, resulting in\\n<50% VAF for germline variants', 'AS', 'LARGE'], [' When an apparent\\ngermline variant is detected in a known cancer predisposi-\\ntion syndrome gene (eg, TP53 or BRCA1), clinical infor-\\nmation on the age of disease onset (young age is associated\\nwith higher risk for an inherited germline mutation in a\\ncancer-causing gene), laterality of tumor (bilateral tumors\\nare more likely to be inherited), and family or personal\\nhistory of cancer can assist in determining the likelihood of\\na cancer predisposition', 'TP53', 'OR'], ['php, last\\naccessed March 6, 2016), ClinVar, and locus-speciﬁc da-\\ntabases, as described earlier', 'MARCH', 'AS'], ['\\n\\nLaboratories should have a policy about\\n\\ntesting a\\ngermline sample for a genetic variant found in a malig-\\nnancy to conﬁrm the germline or somatic origin of the\\nvariant using a clinically validated germline test after\\nappropriate patient consent is received or per request of a\\nclinician', 'OR', 'PER'], ['110\\n\\nit would seem prudent\\n\\nInterpretation and Reporting\\n\\nshould be\\n\\nThe report is an essential part of any laboratory test and\\nshould contain all the information required for the ordering\\nphysician and the patient to know what exactly was tested,\\nwhat results were obtained from the test, and any additional\\npreanalytic, analytic, or postanalytic factors that may inﬂu-\\nence the clinical interpretation of the results', 'WAS', 'OR'], [' In this context,\\nwhat a test does not ﬁnd (ie, pertinent negatives or subop-\\ntimal signal) may be as important, if not more so, than what\\na test does ﬁnd', 'OR', 'AS'], ['69,111 Large panels may need to convey large amounts of\\ninformation,\\nincluding technical elements about assay\\ndesign that are regulatory requirements but may not be of\\nimmediate use to all patients and clinical providers; never-\\ntheless, reports should be short, simple, and to the point', 'LARGE', 'USE'], [' All\\nclinically critical information should be at the beginning of\\nthe report and formatted in a prominent manner to increase\\nthe likelihood that it is seen and understood, with the un-\\nderstanding that data that are on page 2 or beyond stand a\\nhigh likelihood of being missed by the treating physician', 'PAGE', 'OR'], [' Reporting\\nof numerical copy number changes can be performed when\\nappropriate [eg, EGFR copy number GAIN (copy number\\nratio 25); CDKN2A copy number LOSS]', 'EGFR', 'CDKN2A'], ['\\n\\nOther Reporting Elements\\n\\nto interpret\\n\\nIn addition to the detected variants, the report should also\\ncontain several other elements that may be relevant for more\\nthorough analysis of the results or for comparison with other\\nresults obtained from this patient over time, such as the\\ngenomic coordinates, the genome build, and the transcript\\nreference sequence (eg, NM_004333', 'OR', 'AS'], [' Pertinent negatives should be included for tier I\\ndrug/cancer combinations (eg,\\nthe deﬁnitive lack of an\\nEGFR mutation in a patient with lung cancer or the deﬁn-\\nitive lack of a BRAF mutation in a patient with melanoma)', 'OR', 'BRAF'], [' Often, these fac-\\ntors are unknown to the molecular professional reporting\\nresults (ie, presence of confounding medical conditions,\\nsuch as glucose intolerance, autoimmune disease, or heart\\nfailure), and failure to take these other\\nfactors into\\nconsideration when recommending a speciﬁc therapy can\\nlead to confusion, conﬂict between patient and oncology\\nteam, and anxiety', 'AS', 'OR'], [' It is not\\nsufﬁcient for a report to simply list gene names unless the\\nentirety of each of these genes was sequenced or an assay\\nwould detect all reported pathogenic mutations in the\\nlisted gene', 'WAS', 'OR'], [' An aesthetically beautiful report that must be\\nscanned (eg, a printed or PDF ﬁle) into a patient’s chart is,\\nin the long-term, less valuable for that patient than a report\\nthat can be integrated into the structured environment of an\\nelectronic health record', 'OR', 'PDF'], [' Somatic test results should\\nbe just as available to privileged health care workers as are\\ncomplete blood cell counts, chest X-rays, or lymph node\\nbiopsy specimens', 'AS', 'OR'], ['\\n\\nConclusion\\n\\nThe increasing use of NGS technologies in cancer genomic\\nproﬁling has raised new challenges for clinical laboratories', 'USE', 'HAS'], [' Nat Rev Clin\\n\\nOncol 2014, 11:432e438\\n\\n11', 'NAT', 'REV'], [' Lindeman NI, Cagle PT, Beasley MB, Chitale DA, Dacic S,\\nGiaccone G, Jenkins RB, Kwiatkowski DJ, Saldivar J-S, Squire J,\\nThunnissen E, Ladanyi M: Molecular testing guideline for selection\\nof lung cancer patients for EGFR and ALK tyrosine kinase inhibitors', 'EGFR', 'ALK'], [' Petitjean A, Mathe E, Kato S, Ishioka C, Tavtigian SV, Hainaut P,\\nOlivier M: Impact of mutant p53 functional properties on TP53\\nmutation patterns and tumor phenotype:\\nlessons from recent de-\\nvelopments in the IARC TP53 database', 'IMPACT', 'P53'], [' Houdayer C, Caux-Moncoutier V, Krieger S, Barrois M, Bonnet F,\\nBourdon V, Bronner M, Buisson M, Coulet F, Gaildrat P, Lefol C,\\nLone M, Mazoyer S, Muller D, Remenieras A, Rvillion F,\\nRouleau E, Sokolowska J, Vert JP, Lidereau R, Soubrier F,\\nSobol H, Sevenet N, Bressac-de Paillerets B, Hardouin A, Tosi M,\\nSinilnikova OM, Stoppa-Lyonnet D: Guidelines for splicing anal-\\nysis in molecular diagnosis derived from a set of 327 combined in\\nsilico/in vitro studies on BRCA1 and BRCA2 variants', 'SET', 'BRCA1'], [' Vreeswijk MPG, Kraan JN, Van Der Klift HM, Vink GR,\\nCornelisse CJ, Wijnen JT, Bakker E, Van Asperen CJ, Devilee P:\\nIntronic variants in BRCA1 and BRCA2 that affect RNA splicing can\\nbe reliably selected by splice-site prediction programs', 'BRCA1', 'BRCA2'], [' Tiacci E, Park JH, De Carolis L, Chung SS, Broccoli A, Scott S, et al:\\nTargeting mutant BRAF in relapsed or refractory hairy-cell leukemia', 'PARK', 'BRAF'], [' Garcia-Montero AC, Jara-Acevedo M, Teodosio C, Sanchez ML,\\nNunez R, Prados A, Aldanondo I, Sanchez L, Dominguez M,\\nBotana LM, Sanchez-Jimenez F, Sotlar K, Almeida J, Escribano L,\\nOrfao A: KIT mutation in mast cells and other bone marrow he-\\nmatopoietic cell lineages in systemic mast cell disorders: a prospec-\\ntive study of the Spanish Network on Mastocytosis (REMA) in a\\nseries of 113 patients', 'KIT', 'MAST'], [' Nikiforova MN, Kimura ET, Gandhi M, Biddinger PW, Knauf JA,\\nBasolo F, Zhu Z, Giannini R, Salvatore G, Fusco A, Santoro M,\\nFagin JA, Nikiforov YE: BRAF mutations in thyroid tumors are\\nrestricted to papillary carcinomas and anaplastic or poorly differen-\\ntiated carcinomas arising from papillary carcinomas', 'BRAF', 'OR'], [' Harrison C, Kiladjian J-J, Al-Ali HK, Gisslinger H, Waltzman R,\\nStalbovskaya V, McQuitty M, Hunter DS, Levy R, Knoops L,\\nCervantes F, Vannucchi AM, Barbui T, Barosi G: JAK inhibition\\nwith ruxolitinib versus best available therapy for myeloﬁbrosis', 'JAK', 'BEST'], [' Proc Natl Acad Sci U S\\nA 2006, 103:1888e1893\\n\\n104', 'PROC', 'ACAD'], [' Tovar C, Graves B, Packman K, Filipovic Z, Xia BHM,\\nTardell C, Garrido R, Lee E, Kolinsky K, To KH, Linn M,\\nPodlaski F, Wovkulich P, Vu B, Vassilev LT: MDM2 small-\\nmolecule antagonist RG7112 activates p53 signaling and re-\\ngresses human tumors in preclinical cancer models', 'MDM2', 'P53']]\n",
      "59\n"
     ]
    }
   ],
   "source": [
    "def locate_sentence(paper):\n",
    "    paper_list = paper.split('.')\n",
    "    res = []\n",
    "\n",
    "    for sentence in paper_list:\n",
    "        gene=[]\n",
    "        count = 0\n",
    "        word_list = sentence.split(' ')\n",
    "        word_set = set()\n",
    "\n",
    "        for word in word_list:\n",
    "            word = word.upper()\n",
    "            if word in dict2 and word not in word_set:\n",
    "                count += 1\n",
    "                gene.append(word)\n",
    "                word_set.add(word)\n",
    "                \n",
    "        if count >=2:\n",
    "            res.append([sentence, gene[0], gene[1]])\n",
    "            #first_gene.append(gene[0])\n",
    "            #second_gene.append(gene[1])\n",
    "            #sentence_protein.append(sentence)\n",
    "    return res\n",
    "    #return sentence_protein, first_gene, second_gene\n",
    "print(locate_sentence(processed[1]))\n",
    "print(len(locate_sentence(processed[1])))\n",
    "\n"
   ]
  },
  {
   "cell_type": "markdown",
   "metadata": {},
   "source": [
    "##Append all the sentences contains the relationship of genes to sentence_list"
   ]
  },
  {
   "cell_type": "code",
   "execution_count": 77,
   "metadata": {},
   "outputs": [],
   "source": [
    "sentence=[]\n",
    "for papers in processed:\n",
    "    sentence += locate_sentence(papers)\n",
    "df_gene=pd.concat([pd.DataFrame(sentence[i]).T for i in range(len(sentence))], ignore_index=True)\n",
    "df_gene.columns=[\"Sentence\",\"Gene1\",\"Gene2\"]"
   ]
  },
  {
   "cell_type": "code",
   "execution_count": 75,
   "metadata": {},
   "outputs": [
    {
     "data": {
      "text/html": [
       "<div>\n",
       "<style scoped>\n",
       "    .dataframe tbody tr th:only-of-type {\n",
       "        vertical-align: middle;\n",
       "    }\n",
       "\n",
       "    .dataframe tbody tr th {\n",
       "        vertical-align: top;\n",
       "    }\n",
       "\n",
       "    .dataframe thead th {\n",
       "        text-align: right;\n",
       "    }\n",
       "</style>\n",
       "<table border=\"1\" class=\"dataframe\">\n",
       "  <thead>\n",
       "    <tr style=\"text-align: right;\">\n",
       "      <th></th>\n",
       "      <th>Sentence</th>\n",
       "      <th>Gene1</th>\n",
       "      <th>Gene2</th>\n",
       "    </tr>\n",
       "  </thead>\n",
       "  <tbody>\n",
       "    <tr>\n",
       "      <th>0</th>\n",
       "      <td>Nicholson e,   Lucinda   Billingham a\\na Ca...</td>\n",
       "      <td>MRC</td>\n",
       "      <td>NHS</td>\n",
       "    </tr>\n",
       "    <tr>\n",
       "      <th>1</th>\n",
       "      <td>As   a  case   study   we   evaluated   how...</td>\n",
       "      <td>AS</td>\n",
       "      <td>WAS</td>\n",
       "    </tr>\n",
       "    <tr>\n",
       "      <th>2</th>\n",
       "      <td>In   ﬁve   studies   ERCC1   use   was   pl...</td>\n",
       "      <td>ERCC1</td>\n",
       "      <td>USE</td>\n",
       "    </tr>\n",
       "    <tr>\n",
       "      <th>3</th>\n",
       "      <td>\\nConclusions:   We   found   large   variatio...</td>\n",
       "      <td>LARGE</td>\n",
       "      <td>ERCC1</td>\n",
       "    </tr>\n",
       "    <tr>\n",
       "      <th>4</th>\n",
       "      <td>A  review  of  published  papers  investigat...</td>\n",
       "      <td>WAS</td>\n",
       "      <td>LARGE</td>\n",
       "    </tr>\n",
       "  </tbody>\n",
       "</table>\n",
       "</div>"
      ],
      "text/plain": [
       "                                            Sentence  Gene1  Gene2\n",
       "0     Nicholson e,   Lucinda   Billingham a\\na Ca...    MRC    NHS\n",
       "1     As   a  case   study   we   evaluated   how...     AS    WAS\n",
       "2     In   ﬁve   studies   ERCC1   use   was   pl...  ERCC1    USE\n",
       "3  \\nConclusions:   We   found   large   variatio...  LARGE  ERCC1\n",
       "4    A  review  of  published  papers  investigat...    WAS  LARGE"
      ]
     },
     "execution_count": 75,
     "metadata": {},
     "output_type": "execute_result"
    }
   ],
   "source": [
    "df_gene.head(5)\n"
   ]
  },
  {
   "cell_type": "code",
   "execution_count": 78,
   "metadata": {},
   "outputs": [
    {
     "data": {
      "text/plain": [
       "(65049, 3)"
      ]
     },
     "execution_count": 78,
     "metadata": {},
     "output_type": "execute_result"
    }
   ],
   "source": [
    "df_gene.shape\n",
    "#There are 67594 sentences in total"
   ]
  },
  {
   "cell_type": "code",
   "execution_count": 80,
   "metadata": {
    "collapsed": true
   },
   "outputs": [],
   "source": [
    "def extract_relations(paper):\n",
    "    paper_list = paper.split('.')\n",
    "    res = []\n",
    "\n",
    "    for sentence in paper_list:\n",
    "        gene=[]\n",
    "        count = 0\n",
    "        word_list = sentence.split(' ')\n",
    "        word_set = set()\n",
    "\n",
    "        for word in word_list:\n",
    "            word = word.upper()\n",
    "            if word in dict2 and word not in word_set:\n",
    "                count += 1\n",
    "                gene.append(word)\n",
    "                word_set.add(word)\n",
    "                \n",
    "        if count >=2:\n",
    "            res.append([sentence[sentence.find(gene[0]+len(gene[0])),sentence.find(gene[1])], gene[0], gene[1]])\n",
    "\n",
    "    return res"
   ]
  },
  {
   "cell_type": "code",
   "execution_count": 81,
   "metadata": {
    "collapsed": true
   },
   "outputs": [],
   "source": [
    "relations=[]\n",
    "for papers in processed:\n",
    "    relations += locate_sentence(papers)\n",
    "df_relations=pd.concat([pd.DataFrame(relations[i]).T for i in range(len(relations))], ignore_index=True)\n",
    "df_relations.columns=[\"Relations\",\"Gene1\",\"Gene2\"]\n"
   ]
  },
  {
   "cell_type": "markdown",
   "metadata": {},
   "source": [
    "##Then we use the fasttext to do the embeding for all the papers.\n",
    "#The code below is what I used to create a Dataframe and label the sentences manually to indicate our clustering result"
   ]
  }
 ],
 "metadata": {
  "kernelspec": {
   "display_name": "Python 3",
   "language": "python",
   "name": "python3"
  },
  "language_info": {
   "codemirror_mode": {
    "name": "ipython",
    "version": 3
   },
   "file_extension": ".py",
   "mimetype": "text/x-python",
   "name": "python",
   "nbconvert_exporter": "python",
   "pygments_lexer": "ipython3",
   "version": "3.6.4"
  }
 },
 "nbformat": 4,
 "nbformat_minor": 2
}
