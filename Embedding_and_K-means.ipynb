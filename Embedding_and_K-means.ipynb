{
 "cells": [
  {
   "cell_type": "code",
   "execution_count": 1,
   "metadata": {},
   "outputs": [
    {
     "name": "stdout",
     "output_type": "stream",
     "text": [
      "[nltk_data] Downloading package punkt to /home/ll3165/nltk_data...\n",
      "[nltk_data]   Package punkt is already up-to-date!\n"
     ]
    },
    {
     "name": "stderr",
     "output_type": "stream",
     "text": [
      "/home/ll3165/anaconda3/lib/python3.6/site-packages/ggplot/utils.py:81: FutureWarning: pandas.tslib is deprecated and will be removed in a future version.\n",
      "You can access Timestamp as pandas.Timestamp\n",
      "  pd.tslib.Timestamp,\n",
      "/home/ll3165/anaconda3/lib/python3.6/site-packages/ggplot/stats/smoothers.py:4: FutureWarning: The pandas.lib module is deprecated and will be removed in a future version. These are private functions and can be accessed from pandas._libs.lib instead\n",
      "  from pandas.lib import Timestamp\n",
      "/home/ll3165/anaconda3/lib/python3.6/site-packages/statsmodels/compat/pandas.py:56: FutureWarning: The pandas.core.datetools module is deprecated and will be removed in a future version. Please use the pandas.tseries module instead.\n",
      "  from pandas.core import datetools\n",
      "/home/ll3165/anaconda3/lib/python3.6/site-packages/h5py/__init__.py:36: FutureWarning: Conversion of the second argument of issubdtype from `float` to `np.floating` is deprecated. In future, it will be treated as `np.float64 == np.dtype(float).type`.\n",
      "  from ._conv import register_converters as _register_converters\n",
      "Using TensorFlow backend.\n"
     ]
    }
   ],
   "source": [
    "import pandas as pd\n",
    "import numpy as np\n",
    "import regex\n",
    "import gensim\n",
    "import collections\n",
    "import multiprocessing\n",
    "import nltk\n",
    "nltk.download('punkt')\n",
    "from ggplot import *\n",
    "from nltk.tokenize import word_tokenize\n",
    "from sklearn.model_selection import train_test_split\n",
    "from keras.preprocessing.text import Tokenizer\n",
    "from keras.preprocessing.sequence import pad_sequences\n",
    "import time\n",
    "from sklearn.manifold import TSNE\n",
    "import warnings\n",
    "warnings.filterwarnings('ignore')\n",
    "import heapq"
   ]
  },
  {
   "cell_type": "code",
   "execution_count": 2,
   "metadata": {},
   "outputs": [
    {
     "data": {
      "text/html": [
       "<div>\n",
       "<style scoped>\n",
       "    .dataframe tbody tr th:only-of-type {\n",
       "        vertical-align: middle;\n",
       "    }\n",
       "\n",
       "    .dataframe tbody tr th {\n",
       "        vertical-align: top;\n",
       "    }\n",
       "\n",
       "    .dataframe thead th {\n",
       "        text-align: right;\n",
       "    }\n",
       "</style>\n",
       "<table border=\"1\" class=\"dataframe\">\n",
       "  <thead>\n",
       "    <tr style=\"text-align: right;\">\n",
       "      <th></th>\n",
       "      <th>Sentence</th>\n",
       "      <th>Gene1</th>\n",
       "      <th>Gene2</th>\n",
       "    </tr>\n",
       "  </thead>\n",
       "  <tbody>\n",
       "    <tr>\n",
       "      <th>0</th>\n",
       "      <td>Nicholson e,   Lucinda   Billingham aa Canc...</td>\n",
       "      <td>MRC</td>\n",
       "      <td>NHS</td>\n",
       "    </tr>\n",
       "    <tr>\n",
       "      <th>1</th>\n",
       "      <td>gov  -Trial records317  WHO -303  records Cont...</td>\n",
       "      <td>ERCC1</td>\n",
       "      <td>CLC</td>\n",
       "    </tr>\n",
       "    <tr>\n",
       "      <th>2</th>\n",
       "      <td>/  Lung  Cancer  92  (2016)  1–7ilezs epmas ...</td>\n",
       "      <td>ERCC1</td>\n",
       "      <td>RCC1</td>\n",
       "    </tr>\n",
       "    <tr>\n",
       "      <th>3</th>\n",
       "      <td>gov/sites/entrez?db/gene“Primers  have  been  ...</td>\n",
       "      <td>ERCC1</td>\n",
       "      <td>PGK</td>\n",
       "    </tr>\n",
       "    <tr>\n",
       "      <th>4</th>\n",
       "      <td>acknowledges  NHS  funding  to  theRoyal  Ma...</td>\n",
       "      <td>NHS</td>\n",
       "      <td>MRC</td>\n",
       "    </tr>\n",
       "  </tbody>\n",
       "</table>\n",
       "</div>"
      ],
      "text/plain": [
       "                                            Sentence  Gene1 Gene2\n",
       "0     Nicholson e,   Lucinda   Billingham aa Canc...    MRC   NHS\n",
       "1  gov  -Trial records317  WHO -303  records Cont...  ERCC1   CLC\n",
       "2    /  Lung  Cancer  92  (2016)  1–7ilezs epmas ...  ERCC1  RCC1\n",
       "3  gov/sites/entrez?db/gene“Primers  have  been  ...  ERCC1   PGK\n",
       "4    acknowledges  NHS  funding  to  theRoyal  Ma...    NHS   MRC"
      ]
     },
     "execution_count": 2,
     "metadata": {},
     "output_type": "execute_result"
    }
   ],
   "source": [
    "# Load and format files\n",
    "\n",
    "document = pd.read_csv('embed_label.csv',index_col=None)\n",
    "document.head(5)"
   ]
  },
  {
   "cell_type": "code",
   "execution_count": 3,
   "metadata": {},
   "outputs": [
    {
     "name": "stdout",
     "output_type": "stream",
     "text": [
      "There are 55380 unique words in the relationship sentences\n"
     ]
    }
   ],
   "source": [
    "#Save the Relations to a txt file\n",
    "ls_rel=list(document[\"Sentence\"])\n",
    "# with open(\"Relations.txt\",\"w\") as rels:\n",
    "#     rels.write(str(ls_rel))\n",
    "\n",
    "##Count the number of unique words in this list\n",
    "\n",
    "join_ls=\"\".join(str(ls_rel))\n",
    "join_ls = join_ls.split(\" \")\n",
    "len(join_ls)\n",
    "print(\"There are \"+str(len(set(join_ls)))+ \" unique words in the relationship sentences\")"
   ]
  },
  {
   "cell_type": "code",
   "execution_count": 4,
   "metadata": {},
   "outputs": [
    {
     "name": "stdout",
     "output_type": "stream",
     "text": [
      "Cell processing completed!\n"
     ]
    }
   ],
   "source": [
    "dat = document\n",
    "\n",
    "lines = []\n",
    "for x in dat['Sentence']:\n",
    "    lines.append(len(list(filter(str.strip ,str(x).split('\\n')))))\n",
    "\n",
    "dat = dat.assign(length = lines)\n",
    "\n",
    "articles = []\n",
    "for x in dat['Sentence']:\n",
    "    for i in range(len(list(filter(str.strip ,str(x).split('\\n'))))):\n",
    "        articles.append(str(x).split('\\n')[i])\n",
    "\n",
    "\n",
    "\n",
    "data = pd.DataFrame({'lines': articles})\n",
    "print('Cell processing completed!')"
   ]
  },
  {
   "cell_type": "code",
   "execution_count": 5,
   "metadata": {},
   "outputs": [
    {
     "name": "stdout",
     "output_type": "stream",
     "text": [
      "Cell processing completed!\n"
     ]
    }
   ],
   "source": [
    "# Load Word2vec model trained on fasttext\n",
    "wv_model = gensim.models.KeyedVectors.load_word2vec_format('wiki.en.bin', binary = True)\n",
    "vector_sizes1 = 100\n",
    "my_model = gensim.models.KeyedVectors.load_word2vec_format('fil9.bin', binary = True)\n",
    "punctuation = \"[\\t+\\.\\!\\:\\/_,$%^*(+\\\"\\')]+|\\.[+——()?,.;“”！，。？、\\[\\]~@#￥%……&*（）：；–•\\−\\-\\uf0fc+\\uf0a7]|[0-9]+\"\n",
    "print('Cell processing completed!')"
   ]
  },
  {
   "cell_type": "code",
   "execution_count": 6,
   "metadata": {},
   "outputs": [
    {
     "name": "stdout",
     "output_type": "stream",
     "text": [
      "Cell processing completed!\n"
     ]
    }
   ],
   "source": [
    "#Remove words with length = 1\n",
    "\n",
    "X = data[data.columns[0]]\n",
    "X = pd.Series([regex.sub(punctuation,'', x) for x in X])\n",
    "\n",
    "print('Cell processing completed!')"
   ]
  },
  {
   "cell_type": "code",
   "execution_count": 7,
   "metadata": {},
   "outputs": [
    {
     "name": "stdout",
     "output_type": "stream",
     "text": [
      "Cell processing completed!\n"
     ]
    }
   ],
   "source": [
    "X = data[data.columns[0]]\n",
    "X = pd.Series([regex.sub(punctuation,'', x) for x in X])\n",
    "X = X.values.astype(str)\n",
    "\n",
    "X = [word_tokenize(x) for x in X]\n",
    "print('Cell processing completed!')"
   ]
  },
  {
   "cell_type": "code",
   "execution_count": 8,
   "metadata": {},
   "outputs": [
    {
     "name": "stdout",
     "output_type": "stream",
     "text": [
      "The number of sentences we are using is 10445\n"
     ]
    }
   ],
   "source": [
    "print(\"The number of sentences we are using is \"+str(len(X)))\n",
    "for i in range(len(X)):\n",
    "    X[i]=[x for x in X[i] if len(x)!=1]\n",
    "\n"
   ]
  },
  {
   "cell_type": "code",
   "execution_count": 9,
   "metadata": {},
   "outputs": [
    {
     "name": "stdout",
     "output_type": "stream",
     "text": [
      "Found 36504 unique tokens.\n"
     ]
    }
   ],
   "source": [
    "# Build train data and labels\n",
    "tokenizer = Tokenizer(nb_words=60000)\n",
    "tokenizer.fit_on_texts(articles)\n",
    "sequences = tokenizer.texts_to_sequences(articles)\n",
    "\n",
    "word_index = tokenizer.word_index\n",
    "print('Found %s unique tokens.' % len(word_index))\n",
    "\n",
    "datas = pad_sequences(sequences, maxlen=50) #Try adjust 'maxlen' given number of tokens\n"
   ]
  },
  {
   "cell_type": "code",
   "execution_count": 10,
   "metadata": {},
   "outputs": [
    {
     "name": "stdout",
     "output_type": "stream",
     "text": [
      "Cell processing completed!\n"
     ]
    }
   ],
   "source": [
    "# Build embedding index dictionary and embedding matrix\n",
    "vector_sizes2 = wv_model.vector_size\n",
    "vector_size = vector_sizes1 + vector_sizes2\n",
    "\n",
    "embeddings_index = {}\n",
    "for i in range(len(wv_model.index2word)):\n",
    "    word = wv_model.index2word[i]\n",
    "    coefs = np.asarray(wv_model.vectors[i], dtype='float32')\n",
    "    embeddings_index[word] = coefs\n",
    "    \n",
    "embeddings_index_ = {}\n",
    "for i in range(len(my_model.index2word)):\n",
    "    word = my_model.index2word[i]\n",
    "    coefs = np.asarray(my_model.vectors[i], dtype='float32')\n",
    "    embeddings_index_[word] = coefs\n",
    "\n",
    "embedding_matrix = np.zeros((len(word_index) + 1, vector_size))\n",
    "for word, i in word_index.items():\n",
    "    wv_vec = embeddings_index.get(word)\n",
    "\n",
    "    if wv_vec is not None and word in my_model.wv.vocab:\n",
    "        embedding_vector = np.append(wv_vec, my_model[word])\n",
    "    elif wv_vec is not None and word not in my_model.wv.vocab:\n",
    "        embedding_vector = np.append(wv_vec, np.zeros((1, 100)))\n",
    "    elif wv_vec is not None and word in my_model.wv.vocab:\n",
    "        embedding_vector = np.append(np.zeros((1, 300)), my_model[word])\n",
    "\n",
    "    if embedding_vector is not None:\n",
    "        # words not found in embedding index will be all-zeros.\n",
    "        embedding_matrix[i] = embedding_vector\n",
    "\n",
    "print('Cell processing completed!')"
   ]
  },
  {
   "cell_type": "code",
   "execution_count": 11,
   "metadata": {},
   "outputs": [
    {
     "data": {
      "text/plain": [
       "300"
      ]
     },
     "execution_count": 11,
     "metadata": {},
     "output_type": "execute_result"
    }
   ],
   "source": [
    "len(embeddings_index['is'])#We used the pretrained weights based on wiki to get the first 300 dimensions of the embedding"
   ]
  },
  {
   "cell_type": "code",
   "execution_count": 12,
   "metadata": {},
   "outputs": [
    {
     "name": "stdout",
     "output_type": "stream",
     "text": [
      "10445\n"
     ]
    },
    {
     "data": {
      "text/plain": [
       "numpy.ndarray"
      ]
     },
     "execution_count": 12,
     "metadata": {},
     "output_type": "execute_result"
    }
   ],
   "source": [
    "print(len(datas))#There are the number of embedded sentences\n",
    "type(datas)"
   ]
  },
  {
   "cell_type": "code",
   "execution_count": 13,
   "metadata": {},
   "outputs": [
    {
     "name": "stdout",
     "output_type": "stream",
     "text": [
      "Each token is embedded to 400\n"
     ]
    }
   ],
   "source": [
    "print(\"Each token is embedded to \" + str(len(embedding_matrix[1])))"
   ]
  },
  {
   "cell_type": "code",
   "execution_count": 14,
   "metadata": {},
   "outputs": [],
   "source": [
    "relations = []\n",
    "for i in range(document.shape[0]):\n",
    "    g1_ind = str(document[\"Sentence\"][i]).find(document[\"Gene1\"][i])+len(str(document[\"Gene1\"][i]))\n",
    "    g2_ind = str(document[\"Sentence\"][i]).find(document[\"Gene2\"][i])\n",
    "    rels = str(document[\"Sentence\"][i])[g1_ind:g2_ind]\n",
    "    relations.append(rels)"
   ]
  },
  {
   "cell_type": "code",
   "execution_count": 15,
   "metadata": {},
   "outputs": [],
   "source": [
    "pd.DataFrame(relations).to_csv(\"relation_sents.tsv\",sep=\"\\t\",header=False)"
   ]
  },
  {
   "cell_type": "code",
   "execution_count": 16,
   "metadata": {},
   "outputs": [],
   "source": [
    "sens=document['Sentence']\n",
    "senss = pd.DataFrame(sens)\n",
    "ls=[]\n",
    "for i in range(len(datas)):\n",
    "    ls.append(datas[i])\n",
    "df = pd.DataFrame(sens,ls)\n",
    "# df.to_csv(\"embedded_Sentence.csv\")  #Don't need to run this line if embedded_Sentence.csv exists"
   ]
  },
  {
   "cell_type": "code",
   "execution_count": 17,
   "metadata": {},
   "outputs": [
    {
     "data": {
      "text/plain": [
       "array([-8.8321e-01,  6.9976e-01, -1.4139e-01, -1.0388e-01,  3.6590e-02,\n",
       "       -4.0401e-01, -3.5072e-01,  1.5027e-01,  3.7758e-01, -9.3098e-01,\n",
       "       -1.4068e-01, -5.8853e-01, -8.5381e-01, -1.3935e-01, -3.5133e-01,\n",
       "       -1.0354e+00, -6.4156e-01,  1.5202e-01,  1.8198e-01,  1.0932e-01,\n",
       "       -4.8773e-01, -2.4332e-01, -9.9507e-01, -1.1768e+00, -5.4322e-01,\n",
       "       -7.0625e-01,  1.2839e-01,  9.0030e-02, -2.7746e-01,  3.9156e-01,\n",
       "       -1.5071e-01,  1.2942e+00, -3.0745e-01,  8.4750e-01, -3.0700e-01,\n",
       "       -8.8172e-02,  2.7750e-01,  6.7167e-02, -7.7155e-01,  4.5885e-02,\n",
       "       -2.4569e-01,  1.6925e-01, -1.4908e-01, -4.7433e-01,  4.9512e-01,\n",
       "        3.4151e-01,  4.0983e-01, -2.5052e-01,  1.2022e-01, -8.0459e-02,\n",
       "       -3.2406e-01, -8.5819e-01, -1.2316e-01, -4.9544e-01,  6.0271e-01,\n",
       "        2.8184e-01,  9.2861e-01, -2.2469e-01, -4.2467e-01, -6.1195e-02,\n",
       "        3.4157e-01,  1.1932e+00,  5.1277e-01,  5.3323e-02,  1.3751e-01,\n",
       "        7.5240e-01,  2.2526e-01, -1.9910e-02, -3.3799e-01, -1.3784e-03,\n",
       "        5.5832e-01, -2.9154e-02,  1.1329e+00, -3.1131e-01, -1.6890e-01,\n",
       "        9.6470e-01, -6.9522e-01, -3.9656e-01,  8.7295e-02,  2.9026e-01,\n",
       "       -2.5274e-01,  8.3491e-01,  1.8302e-01, -1.0284e-01,  2.7395e-02,\n",
       "       -6.6321e-01,  5.0182e-01,  2.9965e-01, -3.1480e-01, -8.4917e-02,\n",
       "       -7.1298e-03,  3.3147e-01, -4.9593e-01,  3.3493e-01, -5.0489e-02,\n",
       "        2.4718e-01, -1.6380e-01,  5.1332e-01,  1.0457e-01, -1.1033e-02,\n",
       "        7.0286e-01, -4.1036e-01,  4.8372e-01,  8.5439e-02, -2.5335e-01,\n",
       "        5.8253e-01,  1.7850e-01,  3.5380e-01,  4.6939e-01, -2.9244e-01,\n",
       "       -5.3697e-01,  1.7594e-01,  1.9292e-01, -3.8949e-01,  3.0117e-01,\n",
       "        3.2625e-01,  2.0765e-01,  2.6377e-01, -8.5133e-02, -2.2262e-01,\n",
       "        9.9221e-01, -1.3842e-01, -2.4120e-01,  1.2886e-01, -7.7608e-01,\n",
       "       -2.2413e-01,  4.9054e-02,  3.7781e-01, -1.1003e-01, -3.8726e-01,\n",
       "        1.6002e-01, -1.5770e-01, -2.6422e-01,  1.9892e-01,  3.4143e-01,\n",
       "       -3.0282e-01,  2.4451e-01,  1.5810e-01,  4.0787e-01,  3.5559e-01,\n",
       "       -4.3698e-01, -3.0826e-01,  1.0370e+00, -4.3200e-01,  5.2018e-01,\n",
       "        7.3225e-02, -6.6326e-02, -6.4371e-01, -1.5867e-01,  3.8487e-02,\n",
       "        4.7790e-01, -2.4554e-01,  3.6598e-02,  1.9590e-02,  5.6935e-02,\n",
       "        3.4538e-01, -3.6094e-01, -1.9987e-01,  1.4471e-01,  1.1371e-01,\n",
       "       -3.7810e-01,  3.3235e-01, -4.0865e-01,  1.2339e-01,  1.4655e-01,\n",
       "       -8.4771e-01,  1.5445e-02, -2.8555e-01, -1.1821e-02,  1.5361e-01,\n",
       "       -9.8530e-01, -6.6531e-01, -4.3306e-01, -4.3317e-02,  1.9718e-01,\n",
       "        4.4029e-01, -4.2126e-01,  2.5696e-01, -9.2639e-02, -2.8829e-01,\n",
       "        3.7972e-01, -4.3833e-01,  8.7515e-02, -2.2473e-01, -6.1643e-01,\n",
       "        1.2855e+00,  8.6923e-01, -1.3096e+00,  3.5449e-01, -4.2746e-01,\n",
       "       -2.1549e-01,  5.3033e-01, -7.6665e-01,  3.1281e-01, -1.3405e-01,\n",
       "       -5.4219e-01,  5.7139e-01,  1.0712e+00, -5.5644e-01, -4.9085e-01,\n",
       "       -8.0518e-01, -7.9226e-01,  2.1629e-01, -8.1857e-02, -7.0744e-01,\n",
       "       -9.5185e-01, -3.4984e-02,  4.7206e-01,  5.7745e-01,  8.8534e-02,\n",
       "        4.0620e-01,  6.5364e-01, -6.3960e-01,  9.2727e-01, -5.6724e-01,\n",
       "       -3.7524e-01,  4.6419e-01, -1.0058e-01,  1.4598e-01, -3.0168e-01,\n",
       "        2.5455e-01,  1.6652e+00,  5.3372e-01,  2.6789e-01,  1.6294e-01,\n",
       "       -4.6783e-02,  1.6931e-01, -7.6230e-01,  1.9121e-01, -8.9403e-01,\n",
       "       -3.3180e-01, -3.5693e-01,  7.1752e-02, -1.1089e+00,  5.3284e-01,\n",
       "        5.1627e-01, -2.4253e-01, -3.6983e-01, -1.0666e-01, -7.1991e-02,\n",
       "        2.7457e-01, -4.3978e-01, -4.6728e-01, -2.5954e-01, -3.1517e-01,\n",
       "        2.9050e-01, -1.3616e-01, -5.7108e-01, -4.7412e-01, -6.7796e-01,\n",
       "        1.5084e-01,  2.1238e-01,  5.1767e-02,  1.4291e-01,  3.4363e-01,\n",
       "        2.7310e-01,  1.7340e-01, -1.6807e-01, -9.6734e-02,  2.8179e-01,\n",
       "       -6.8059e-01,  2.6845e-02, -6.4205e-01,  7.1067e-01, -2.1993e-01,\n",
       "       -3.4422e-01,  6.9273e-01,  4.6470e-03,  1.1851e-01, -6.7518e-01,\n",
       "       -3.4876e-01, -2.5445e-01,  6.9452e-01, -5.1787e-01, -8.7452e-01,\n",
       "       -4.2334e-01, -4.2319e-01, -1.2954e-01,  5.5705e-02, -2.8456e-01,\n",
       "       -4.7922e-01,  8.0708e-01,  3.6058e-01,  3.4984e-01,  5.4885e-01,\n",
       "        2.3308e-01, -9.9469e-02,  2.8938e-01, -5.3611e-01,  3.5701e-01,\n",
       "       -3.5869e-01, -3.1839e-01,  2.3067e-01,  4.4474e-01, -5.9359e-01,\n",
       "       -1.6802e-01, -9.7138e-01, -2.7688e-01,  8.0735e-01, -1.8316e-02],\n",
       "      dtype=float32)"
      ]
     },
     "execution_count": 17,
     "metadata": {},
     "output_type": "execute_result"
    }
   ],
   "source": [
    "embedding_matrix.shape\n",
    "len(sens[0].split(\" \"))\n",
    "embeddings_index[sens[0].split(\" \")[4]]#This is a example of our embedding matrix"
   ]
  },
  {
   "cell_type": "code",
   "execution_count": 18,
   "metadata": {},
   "outputs": [
    {
     "name": "stdout",
     "output_type": "stream",
     "text": [
      "(10445, 400)\n"
     ]
    }
   ],
   "source": [
    "#This function is to calculate the mean embedding of the sentences.\n",
    "#We averaged across the sentences across the tokens\n",
    "#The shape of the mean embedding matrix is 10445,400\n",
    "mean_mat = np.zeros([len(sens),embedding_matrix.shape[1]])\n",
    "\n",
    "for i in range(len(sens)):\n",
    "    sums = 0\n",
    "    splt = str(sens[i]).split(\" \")\n",
    "    for j in range(len(splt)):\n",
    "        n = 1\n",
    "        if splt[j] in embeddings_index and splt[j] in embeddings_index_:\n",
    "            sums = sums+np.append(embeddings_index[splt[j]], embeddings_index_[splt[j]])\n",
    "            n = n+1\n",
    "    mean_mat[i]=sums/n\n",
    "print(mean_mat.shape)"
   ]
  },
  {
   "cell_type": "code",
   "execution_count": 19,
   "metadata": {},
   "outputs": [
    {
     "name": "stdout",
     "output_type": "stream",
     "text": [
      "(10445, 400)\n"
     ]
    }
   ],
   "source": [
    "relation_mat = np.zeros([len(relations),embedding_matrix.shape[1]])\n",
    "\n",
    "for i in range(len(relations)):\n",
    "    sums = 0\n",
    "    splt = str(relations[i]).split(\" \")\n",
    "    for j in range(len(splt)):\n",
    "        n = 1\n",
    "        if splt[j] in embeddings_index and splt[j] in embeddings_index_:\n",
    "            sums = sums + np.append(embeddings_index[splt[j]], embeddings_index_[splt[j]])\n",
    "            n = n+1\n",
    "    relation_mat[i]=sums/n\n",
    "print(relation_mat.shape)"
   ]
  },
  {
   "cell_type": "code",
   "execution_count": 20,
   "metadata": {},
   "outputs": [],
   "source": [
    "#np.savetxt(\"relation_embed.tsv\", relation_mat, delimiter=\"\\t\") #Don't need to run this code if relation_embed.tsv exists"
   ]
  },
  {
   "cell_type": "markdown",
   "metadata": {},
   "source": [
    "Save to two seperate tsv files and upload to tensorboard and get the visualization result"
   ]
  },
  {
   "cell_type": "code",
   "execution_count": 21,
   "metadata": {},
   "outputs": [],
   "source": [
    "#save this sentence embedding to disk\n",
    "np.savetxt(\"mean_embed.tsv\", mean_mat, delimiter=\"\\t\")\n"
   ]
  },
  {
   "cell_type": "markdown",
   "metadata": {},
   "source": [
    "Simply average the embedding sentences"
   ]
  },
  {
   "cell_type": "code",
   "execution_count": 22,
   "metadata": {},
   "outputs": [],
   "source": [
    "pd.DataFrame(relation_mat).to_csv(\"k_means_embed.csv\",index=False)"
   ]
  },
  {
   "cell_type": "code",
   "execution_count": 23,
   "metadata": {},
   "outputs": [
    {
     "data": {
      "text/plain": [
       "(10445, 400)"
      ]
     },
     "execution_count": 23,
     "metadata": {},
     "output_type": "execute_result"
    }
   ],
   "source": [
    "from sklearn.cluster import KMeans\n",
    "import numpy as np\n",
    "X = relation_mat\n",
    "X.shape"
   ]
  },
  {
   "cell_type": "code",
   "execution_count": 24,
   "metadata": {
    "scrolled": false
   },
   "outputs": [],
   "source": [
    "kmeans = KMeans(n_clusters=3,random_state=0).fit(X)\n"
   ]
  },
  {
   "cell_type": "code",
   "execution_count": 25,
   "metadata": {},
   "outputs": [
    {
     "name": "stdout",
     "output_type": "stream",
     "text": [
      "The number of sentences in cluster1 is 1913\n",
      "The number of sentences in cluster2 is 8396\n",
      "The number of sentences in cluster3 is 136\n"
     ]
    }
   ],
   "source": [
    "distence=kmeans.transform(X)\n",
    "kmeans.labels_.shape\n",
    "print(\"The number of sentences in cluster1 is \"+str(sum(kmeans.labels_==0)))\n",
    "print(\"The number of sentences in cluster2 is \"+str(sum(kmeans.labels_==1)))\n",
    "print(\"The number of sentences in cluster3 is \"+str(sum(kmeans.labels_==2)))"
   ]
  },
  {
   "cell_type": "code",
   "execution_count": 26,
   "metadata": {},
   "outputs": [],
   "source": [
    "y_pred = KMeans(n_clusters=3, random_state=0).fit_predict(X)\n"
   ]
  },
  {
   "cell_type": "code",
   "execution_count": 27,
   "metadata": {},
   "outputs": [],
   "source": [
    "feat_cols = [ 'pixel'+str(i) for i in range(X.shape[1]) ]\n",
    "df = pd.DataFrame(X,columns=feat_cols)\n",
    "df['label'] = y_pred\n",
    "df['label'] = df['label'].apply(lambda i: str(i))\n"
   ]
  },
  {
   "cell_type": "code",
   "execution_count": 28,
   "metadata": {},
   "outputs": [
    {
     "data": {
      "text/plain": [
       "array([0, 1, 1, 1, 1, 1, 1, 1, 0, 1], dtype=int32)"
      ]
     },
     "execution_count": 28,
     "metadata": {},
     "output_type": "execute_result"
    }
   ],
   "source": [
    "distence = pd.DataFrame(distence)\n",
    "y_pred[:10]"
   ]
  },
  {
   "cell_type": "code",
   "execution_count": 29,
   "metadata": {},
   "outputs": [
    {
     "name": "stdout",
     "output_type": "stream",
     "text": [
      "[t-SNE] Computing 16 nearest neighbors...\n",
      "[t-SNE] Indexed 10445 samples in 0.239s...\n",
      "[t-SNE] Computed neighbors for 10445 samples in 51.947s...\n",
      "[t-SNE] Computed conditional probabilities for sample 1000 / 10445\n",
      "[t-SNE] Computed conditional probabilities for sample 2000 / 10445\n",
      "[t-SNE] Computed conditional probabilities for sample 3000 / 10445\n",
      "[t-SNE] Computed conditional probabilities for sample 4000 / 10445\n",
      "[t-SNE] Computed conditional probabilities for sample 5000 / 10445\n",
      "[t-SNE] Computed conditional probabilities for sample 6000 / 10445\n",
      "[t-SNE] Computed conditional probabilities for sample 7000 / 10445\n",
      "[t-SNE] Computed conditional probabilities for sample 8000 / 10445\n",
      "[t-SNE] Computed conditional probabilities for sample 9000 / 10445\n",
      "[t-SNE] Computed conditional probabilities for sample 10000 / 10445\n",
      "[t-SNE] Computed conditional probabilities for sample 10445 / 10445\n",
      "[t-SNE] Mean sigma: 0.000000\n",
      "[t-SNE] KL divergence after 250 iterations with early exaggeration: 106.676399\n",
      "[t-SNE] Error after 251 iterations: 179769313486231570814527423731704356798070567525844996598917476803157260780028538760589558632766878171540458953514382464234321326889464182768467546703537516986049910576551282076245490090389328944075868508455133942304583236903222948165808559332123348274797826204144723168738177180919299881250404026184124858368.000000\n",
      "t-SNE done! Time elapsed: 102.31590270996094 seconds\n"
     ]
    }
   ],
   "source": [
    "n_sne = 10445\n",
    "time_start = time.time()\n",
    "tsne = TSNE(n_components=2, verbose=1, perplexity=5, n_iter=250)\n",
    "tsne_results = tsne.fit_transform(df.loc[:n_sne,feat_cols].values)\n",
    "\n",
    "print('t-SNE done! Time elapsed: {} seconds'.format(time.time()-time_start))\n"
   ]
  },
  {
   "cell_type": "code",
   "execution_count": 30,
   "metadata": {},
   "outputs": [
    {
     "data": {
      "image/png": "[encoded data removed]",
      "text/plain": [
       "<matplotlib.figure.Figure at 0x7fb6e63cb0f0>"
      ]
     },
     "metadata": {},
     "output_type": "display_data"
    },
    {
     "data": {
      "text/plain": [
       "<ggplot: (-9223363260384557361)>"
      ]
     },
     "execution_count": 30,
     "metadata": {},
     "output_type": "execute_result"
    }
   ],
   "source": [
    "df_tsne = df.loc[:n_sne,:].copy()\n",
    "df_tsne['x-tsne'] = tsne_results[:,0]\n",
    "df_tsne['y-tsne'] = tsne_results[:,1]\n",
    "\n",
    "chart = ggplot( df_tsne, aes(x='x-tsne', y='y-tsne', color='label') ) \\\n",
    "        + geom_point(size=60,alpha=0.1) \\\n",
    "        + ggtitle(\"t-SNE colored by predicted clusters\")\n",
    "chart\n"
   ]
  },
  {
   "cell_type": "markdown",
   "metadata": {},
   "source": [
    "Then we are going to dive into the center of these clusters and expected to find how the sentences embeddings help"
   ]
  },
  {
   "cell_type": "code",
   "execution_count": 31,
   "metadata": {},
   "outputs": [
    {
     "data": {
      "text/plain": [
       "[3263, 5086, 5897, 2155, 827]"
      ]
     },
     "execution_count": 31,
     "metadata": {},
     "output_type": "execute_result"
    }
   ],
   "source": [
    "ls=[]\n",
    "smallest_5 = heapq.nsmallest(5, list(distence.iloc[:,0]))\n",
    "for i in range(len(smallest_5)):\n",
    "    index = np.where(distence.iloc[:,0]==smallest_5[i])\n",
    "    ls.append(index[0][0])\n",
    "ls"
   ]
  },
  {
   "cell_type": "code",
   "execution_count": 32,
   "metadata": {},
   "outputs": [
    {
     "data": {
      "text/html": [
       "<div>\n",
       "<style scoped>\n",
       "    .dataframe tbody tr th:only-of-type {\n",
       "        vertical-align: middle;\n",
       "    }\n",
       "\n",
       "    .dataframe tbody tr th {\n",
       "        vertical-align: top;\n",
       "    }\n",
       "\n",
       "    .dataframe thead th {\n",
       "        text-align: right;\n",
       "    }\n",
       "</style>\n",
       "<table border=\"1\" class=\"dataframe\">\n",
       "  <thead>\n",
       "    <tr style=\"text-align: right;\">\n",
       "      <th></th>\n",
       "      <th>Sentence</th>\n",
       "      <th>Gene1</th>\n",
       "      <th>Gene2</th>\n",
       "    </tr>\n",
       "  </thead>\n",
       "  <tbody>\n",
       "    <tr>\n",
       "      <th>3263</th>\n",
       "      <td>Alectinib CSF concentration was 63–94% of tha...</td>\n",
       "      <td>CSF</td>\n",
       "      <td>ALK</td>\n",
       "    </tr>\n",
       "    <tr>\n",
       "      <th>5086</th>\n",
       "      <td>SOX1 could also inter-fere with Wnt/b-catenin...</td>\n",
       "      <td>SOX1</td>\n",
       "      <td>HCC</td>\n",
       "    </tr>\n",
       "    <tr>\n",
       "      <th>5897</th>\n",
       "      <td>Reliable use of PET in primary GTVdeﬁnition r...</td>\n",
       "      <td>PET</td>\n",
       "      <td>SUV</td>\n",
       "    </tr>\n",
       "    <tr>\n",
       "      <th>2155</th>\n",
       "      <td>In particular, the use of EGFR-TKIs in patien...</td>\n",
       "      <td>EGFR</td>\n",
       "      <td>AS</td>\n",
       "    </tr>\n",
       "    <tr>\n",
       "      <th>827</th>\n",
       "      <td>Because both AHNAK downregulation and treat...</td>\n",
       "      <td>AHNAK</td>\n",
       "      <td>SOX2</td>\n",
       "    </tr>\n",
       "  </tbody>\n",
       "</table>\n",
       "</div>"
      ],
      "text/plain": [
       "                                               Sentence  Gene1 Gene2\n",
       "3263   Alectinib CSF concentration was 63–94% of tha...    CSF   ALK\n",
       "5086   SOX1 could also inter-fere with Wnt/b-catenin...   SOX1   HCC\n",
       "5897   Reliable use of PET in primary GTVdeﬁnition r...    PET   SUV\n",
       "2155   In particular, the use of EGFR-TKIs in patien...   EGFR    AS\n",
       "827      Because both AHNAK downregulation and treat...  AHNAK  SOX2"
      ]
     },
     "execution_count": 32,
     "metadata": {},
     "output_type": "execute_result"
    }
   ],
   "source": [
    "document.iloc[ls]"
   ]
  },
  {
   "cell_type": "code",
   "execution_count": 33,
   "metadata": {},
   "outputs": [
    {
     "name": "stdout",
     "output_type": "stream",
     "text": [
      " Alectinib CSF concentration was 63–94% of that measured in theplasma, possibly because this agent, unlike crizotinib and another nextgeneration ALK TKI ceritinib, is not a substrate for P-gp\n",
      "\n",
      " SOX1 could also inter-fere with Wnt/b-catenin signaling in the development of HCC [6]\n",
      "\n",
      " Reliable use of PET in primary GTVdeﬁnition requires a clearly established methodologyparticularly for quantitative determination of the tumouredge, which is typically based on the standardized uptakevalue (SUV), where threshold (or cut-off value) deﬁned as apercentage of maximum SUV or an absolute SUV value isused\n",
      "\n",
      " In particular, the use of EGFR-TKIs in patientsharboring EGFR mutations is crucial with the effect of AS becauseFigure 1 Kaplan-Meier Survival Curves of Progression-Free Survival (PFS) and Overall Survival (OS)\n",
      "\n",
      "   Because both AHNAK downregulation and treatment with a p53 inhibitor increased  the  mRNA  levels  of  SOX2  and  MYC,  we  evaluated  whether  p53 binds directly to the SOX2 and MYC promoter regions to regulate transcription and whether this process is controlled by the UBE3C-AHNAK axis\n",
      "\n"
     ]
    }
   ],
   "source": [
    "for i in ls:\n",
    "    print(document[\"Sentence\"][i]+\"\\n\")\n",
    "\n"
   ]
  },
  {
   "cell_type": "code",
   "execution_count": 46,
   "metadata": {},
   "outputs": [
    {
     "data": {
      "text/plain": [
       "[5922, 6655, 8890, 976, 4373]"
      ]
     },
     "execution_count": 46,
     "metadata": {},
     "output_type": "execute_result"
    }
   ],
   "source": [
    "# distence = pd.DataFrame(distence)\n",
    "ls=[]\n",
    "smallest_5 = list(set(heapq.nsmallest(9, list(distence.iloc[:,1]))))\n",
    "for i in range(len(smallest_5)):\n",
    "    index = np.where(distence.iloc[:,1]==smallest_5[i])\n",
    "    ls.append(index[0][0])\n",
    "ls\n"
   ]
  },
  {
   "cell_type": "code",
   "execution_count": 47,
   "metadata": {},
   "outputs": [
    {
     "data": {
      "text/html": [
       "<div>\n",
       "<style scoped>\n",
       "    .dataframe tbody tr th:only-of-type {\n",
       "        vertical-align: middle;\n",
       "    }\n",
       "\n",
       "    .dataframe tbody tr th {\n",
       "        vertical-align: top;\n",
       "    }\n",
       "\n",
       "    .dataframe thead th {\n",
       "        text-align: right;\n",
       "    }\n",
       "</style>\n",
       "<table border=\"1\" class=\"dataframe\">\n",
       "  <thead>\n",
       "    <tr style=\"text-align: right;\">\n",
       "      <th></th>\n",
       "      <th>Sentence</th>\n",
       "      <th>Gene1</th>\n",
       "      <th>Gene2</th>\n",
       "    </tr>\n",
       "  </thead>\n",
       "  <tbody>\n",
       "    <tr>\n",
       "      <th>5922</th>\n",
       "      <td>ALK translocation and EGFR or KRAS mutationsw...</td>\n",
       "      <td>ALK</td>\n",
       "      <td>EGFR</td>\n",
       "    </tr>\n",
       "    <tr>\n",
       "      <th>6655</th>\n",
       "      <td>5,8  ALK  translocations  and EGFR mutations o...</td>\n",
       "      <td>ALK</td>\n",
       "      <td>EGFR</td>\n",
       "    </tr>\n",
       "    <tr>\n",
       "      <th>8890</th>\n",
       "      <td>Three  specimens  harbored  concurrent  muta...</td>\n",
       "      <td>PIK3CA</td>\n",
       "      <td>KRAS</td>\n",
       "    </tr>\n",
       "    <tr>\n",
       "      <th>976</th>\n",
       "      <td>(C) Cell proliferation of BRE-AS1 stablyovere...</td>\n",
       "      <td>BRE-AS1</td>\n",
       "      <td>NR4A3</td>\n",
       "    </tr>\n",
       "    <tr>\n",
       "      <th>4373</th>\n",
       "      <td>Theseﬁndings suggest that, in vitro and in vi...</td>\n",
       "      <td>MALAT1</td>\n",
       "      <td>STAT3</td>\n",
       "    </tr>\n",
       "  </tbody>\n",
       "</table>\n",
       "</div>"
      ],
      "text/plain": [
       "                                               Sentence    Gene1  Gene2\n",
       "5922   ALK translocation and EGFR or KRAS mutationsw...      ALK   EGFR\n",
       "6655  5,8  ALK  translocations  and EGFR mutations o...      ALK   EGFR\n",
       "8890    Three  specimens  harbored  concurrent  muta...   PIK3CA   KRAS\n",
       "976    (C) Cell proliferation of BRE-AS1 stablyovere...  BRE-AS1  NR4A3\n",
       "4373   Theseﬁndings suggest that, in vitro and in vi...   MALAT1  STAT3"
      ]
     },
     "execution_count": 47,
     "metadata": {},
     "output_type": "execute_result"
    }
   ],
   "source": [
    "document.iloc[ls]\n"
   ]
  },
  {
   "cell_type": "code",
   "execution_count": 36,
   "metadata": {},
   "outputs": [
    {
     "name": "stdout",
     "output_type": "stream",
     "text": [
      " ALK translocation and EGFR or KRAS mutationswere the most screened molecular analysis\n",
      "\n",
      " ALK translocation and EGFR or KRAS mutationswere the most screened molecular analysis\n",
      "\n",
      " ALK translocation and EGFR or KRAS mutationswere the most screened molecular analysis\n",
      "\n",
      "  Three  specimens  harbored  concurrent  mutations  in PIK3CA and either KRAS (n=2) or EGFR (n=1)\n",
      "\n",
      "  Three  specimens  harbored  concurrent  mutations  in PIK3CA and either KRAS (n=2) or EGFR (n=1)\n",
      "\n"
     ]
    }
   ],
   "source": [
    "for i in ls:\n",
    "    print(document[\"Sentence\"][i]+\"\\n\")\n"
   ]
  },
  {
   "cell_type": "code",
   "execution_count": 37,
   "metadata": {},
   "outputs": [],
   "source": [
    "kmeans = KMeans(n_clusters=10,random_state=0).fit(X)"
   ]
  },
  {
   "cell_type": "code",
   "execution_count": 38,
   "metadata": {},
   "outputs": [],
   "source": [
    "y_pred = KMeans(n_clusters=10, random_state=0).fit_predict(X)\n",
    "feat_cols = [ 'pixel'+str(i) for i in range(X.shape[1]) ]\n",
    "df = pd.DataFrame(X,columns=feat_cols)\n",
    "df['label'] = y_pred\n",
    "df['label'] = df['label'].apply(lambda i: str(i))\n",
    "\n"
   ]
  },
  {
   "cell_type": "code",
   "execution_count": 39,
   "metadata": {},
   "outputs": [
    {
     "name": "stdout",
     "output_type": "stream",
     "text": [
      "[t-SNE] Computing 31 nearest neighbors...\n",
      "[t-SNE] Indexed 10445 samples in 0.264s...\n",
      "[t-SNE] Computed neighbors for 10445 samples in 55.579s...\n",
      "[t-SNE] Computed conditional probabilities for sample 1000 / 10445\n",
      "[t-SNE] Computed conditional probabilities for sample 2000 / 10445\n",
      "[t-SNE] Computed conditional probabilities for sample 3000 / 10445\n",
      "[t-SNE] Computed conditional probabilities for sample 4000 / 10445\n",
      "[t-SNE] Computed conditional probabilities for sample 5000 / 10445\n",
      "[t-SNE] Computed conditional probabilities for sample 6000 / 10445\n",
      "[t-SNE] Computed conditional probabilities for sample 7000 / 10445\n",
      "[t-SNE] Computed conditional probabilities for sample 8000 / 10445\n",
      "[t-SNE] Computed conditional probabilities for sample 9000 / 10445\n",
      "[t-SNE] Computed conditional probabilities for sample 10000 / 10445\n",
      "[t-SNE] Computed conditional probabilities for sample 10445 / 10445\n",
      "[t-SNE] Mean sigma: 0.000000\n",
      "[t-SNE] KL divergence after 250 iterations with early exaggeration: 98.898140\n",
      "[t-SNE] Error after 251 iterations: 179769313486231570814527423731704356798070567525844996598917476803157260780028538760589558632766878171540458953514382464234321326889464182768467546703537516986049910576551282076245490090389328944075868508455133942304583236903222948165808559332123348274797826204144723168738177180919299881250404026184124858368.000000\n",
      "t-SNE done! Time elapsed: 105.90298557281494 seconds\n"
     ]
    }
   ],
   "source": [
    "n_sne = 10445\n",
    "time_start = time.time()\n",
    "tsne = TSNE(n_components=2, verbose=1, perplexity=10, n_iter=250)\n",
    "tsne_results = tsne.fit_transform(df.loc[:n_sne,feat_cols].values)\n",
    "\n",
    "print('t-SNE done! Time elapsed: {} seconds'.format(time.time()-time_start))"
   ]
  },
  {
   "cell_type": "code",
   "execution_count": 40,
   "metadata": {},
   "outputs": [
    {
     "data": {
      "image/png": "[encoded data removed]",
      "text/plain": [
       "<matplotlib.figure.Figure at 0x7fb6d9067780>"
      ]
     },
     "metadata": {},
     "output_type": "display_data"
    },
    {
     "data": {
      "text/plain": [
       "<ggplot: (-9223363260398409917)>"
      ]
     },
     "execution_count": 40,
     "metadata": {},
     "output_type": "execute_result"
    }
   ],
   "source": [
    "df_tsne = df.loc[:n_sne,:].copy()\n",
    "df_tsne['x-tsne'] = tsne_results[:,0]\n",
    "df_tsne['y-tsne'] = tsne_results[:,1]\n",
    "\n",
    "chart = ggplot( df_tsne, aes(x='x-tsne', y='y-tsne', color='label') ) \\\n",
    "        + geom_point(size=60,alpha=0.1) \\\n",
    "        + ggtitle(\"t-SNE colored by predicted clusters\")\n",
    "chart\n"
   ]
  },
  {
   "cell_type": "code",
   "execution_count": null,
   "metadata": {},
   "outputs": [],
   "source": []
  }
 ],
 "metadata": {
  "kernelspec": {
   "display_name": "Python 3",
   "language": "python",
   "name": "python3"
  },
  "language_info": {
   "codemirror_mode": {
    "name": "ipython",
    "version": 3
   },
   "file_extension": ".py",
   "mimetype": "text/x-python",
   "name": "python",
   "nbconvert_exporter": "python",
   "pygments_lexer": "ipython3",
   "version": "3.6.4"
  }
 },
 "nbformat": 4,
 "nbformat_minor": 2
}
